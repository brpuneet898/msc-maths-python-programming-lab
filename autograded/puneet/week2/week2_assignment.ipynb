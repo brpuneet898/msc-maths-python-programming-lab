{
 "cells": [
  {
   "cell_type": "markdown",
   "id": "e62392c0",
   "metadata": {
    "deletable": false,
    "editable": false,
    "nbgrader": {
     "cell_type": "markdown",
     "checksum": "5956178109e3f407f12334e157886785",
     "grade": false,
     "grade_id": "cell-0baad7faa952cd13",
     "locked": true,
     "schema_version": 3,
     "solution": false,
     "task": false
    }
   },
   "source": [
    "# Week 2: Variables, Expressions, and Statements\n",
    "\n",
    "Welcome to **Week 2** of the Python Lab for MSc Mathematics students.  \n",
    "\n",
    "In this lab, you will:\n",
    "\n",
    "- Learn how to use variables in Python.  \n",
    "- Practice writing arithmetic expressions.  \n",
    "- Work with Python statements.  \n",
    "- Solve problems involving geometric shapes.  \n",
    "\n",
    "This lab is designed to be completed in **1 hour**. Please read the instructions carefully and attempt all exercises.  \n",
    "\n",
    "---\n",
    "\n",
    "## Learning Objectives\n",
    "\n",
    "By the end of this lab, you should be able to:\n",
    "\n",
    "1. Assign values to variables and use them in expressions.  \n",
    "2. Perform simple arithmetic operations in Python.  \n",
    "3. Write Python statements to compute areas and perimeters.  \n",
    "4. Develop problem-solving skills using variables and expressions.  \n",
    "\n",
    "---\n",
    "\n",
    "## Guidelines for Submissions\n",
    "\n",
    "- Write your code **only** in the space provided in code cells.  \n",
    "- Do not modify the test cells.  \n",
    "- Run all cells before submission to ensure correctness.  \n",
    "- Partial credit may be awarded if your code is logically correct but incomplete.  \n",
    "\n",
    "---\n",
    "\n",
    "# Part A: Variables and Arithmetic Expressions\n",
    "\n",
    "In this section, we will practice simple variable assignments and arithmetic.\n"
   ]
  },
  {
   "cell_type": "code",
   "execution_count": 1,
   "id": "a25ed58e",
   "metadata": {
    "execution": {
     "iopub.execute_input": "2025-09-06T02:17:04.060876Z",
     "iopub.status.busy": "2025-09-06T02:17:04.060476Z",
     "iopub.status.idle": "2025-09-06T02:17:04.067304Z",
     "shell.execute_reply": "2025-09-06T02:17:04.066605Z"
    }
   },
   "outputs": [
    {
     "name": "stdout",
     "output_type": "stream",
     "text": [
      "5 10 15\n"
     ]
    }
   ],
   "source": [
    "# Q1. Assigning and Printing Variables (5 marks)\n",
    "# Create three variables x, y, and z with the values 5, 10, and 15.\n",
    "# Then print them in a single line, separated by spaces.\n",
    "\n",
    "# YOUR CODE HERE\n",
    "x = 5\n",
    "y = 10\n",
    "z = 15\n",
    "print(x, y, z)"
   ]
  },
  {
   "cell_type": "code",
   "execution_count": 2,
   "id": "2a3ba3de",
   "metadata": {
    "deletable": false,
    "editable": false,
    "execution": {
     "iopub.execute_input": "2025-09-06T02:17:04.069589Z",
     "iopub.status.busy": "2025-09-06T02:17:04.069282Z",
     "iopub.status.idle": "2025-09-06T02:17:04.072880Z",
     "shell.execute_reply": "2025-09-06T02:17:04.072149Z"
    },
    "nbgrader": {
     "cell_type": "code",
     "checksum": "c3e3bde4e21c13272d5841a663d76491",
     "grade": true,
     "grade_id": "cell-f9c1a88999e10311",
     "locked": true,
     "points": 5,
     "schema_version": 3,
     "solution": false,
     "task": false
    }
   },
   "outputs": [],
   "source": [
    "### BEGIN HIDDEN TESTS\n",
    "assert x == 5\n",
    "assert y == 10\n",
    "assert z == 15\n",
    "### END HIDDEN TESTS"
   ]
  },
  {
   "cell_type": "code",
   "execution_count": 3,
   "id": "d2ec6506",
   "metadata": {
    "execution": {
     "iopub.execute_input": "2025-09-06T02:17:04.074829Z",
     "iopub.status.busy": "2025-09-06T02:17:04.074644Z",
     "iopub.status.idle": "2025-09-06T02:17:04.079499Z",
     "shell.execute_reply": "2025-09-06T02:17:04.079079Z"
    }
   },
   "outputs": [
    {
     "data": {
      "text/plain": [
       "80"
      ]
     },
     "execution_count": 3,
     "metadata": {},
     "output_type": "execute_result"
    }
   ],
   "source": [
    "# Q2. Simple Arithmetic (5 marks)\n",
    "# Compute result = (a + b) * (a - b) where a = 12 and b = 8.\n",
    "\n",
    "# YOUR CODE HERE\n",
    "a = 12\n",
    "b = 8\n",
    "result = (a + b) * (a - b)\n",
    "result"
   ]
  },
  {
   "cell_type": "code",
   "execution_count": 4,
   "id": "61d58496",
   "metadata": {
    "deletable": false,
    "editable": false,
    "execution": {
     "iopub.execute_input": "2025-09-06T02:17:04.081131Z",
     "iopub.status.busy": "2025-09-06T02:17:04.080860Z",
     "iopub.status.idle": "2025-09-06T02:17:04.083425Z",
     "shell.execute_reply": "2025-09-06T02:17:04.082922Z"
    },
    "nbgrader": {
     "cell_type": "code",
     "checksum": "4c0050f1a908a135137609167b65220c",
     "grade": true,
     "grade_id": "cell-3d55c5409a4c3b97",
     "locked": true,
     "points": 5,
     "schema_version": 3,
     "solution": false,
     "task": false
    }
   },
   "outputs": [],
   "source": [
    "### BEGIN HIDDEN TESTS\n",
    "assert result == (12 + 8) * (12 - 8)\n",
    "### END HIDDEN TESTS"
   ]
  },
  {
   "cell_type": "code",
   "execution_count": 5,
   "id": "aa6e7644",
   "metadata": {
    "execution": {
     "iopub.execute_input": "2025-09-06T02:17:04.084848Z",
     "iopub.status.busy": "2025-09-06T02:17:04.084685Z",
     "iopub.status.idle": "2025-09-06T02:17:04.088135Z",
     "shell.execute_reply": "2025-09-06T02:17:04.087520Z"
    }
   },
   "outputs": [
    {
     "data": {
      "text/plain": [
       "(5, 4)"
      ]
     },
     "execution_count": 5,
     "metadata": {},
     "output_type": "execute_result"
    }
   ],
   "source": [
    "# Q3. Division and Remainder (5 marks)\n",
    "# For m = 29 and n = 5, compute quotient and remainder.\n",
    "\n",
    "# YOUR CODE HERE\n",
    "m = 29\n",
    "n = 5\n",
    "quotient = m // n\n",
    "remainder = m % n\n",
    "(quotient, remainder)"
   ]
  },
  {
   "cell_type": "code",
   "execution_count": 6,
   "id": "b384d1f1",
   "metadata": {
    "deletable": false,
    "editable": false,
    "execution": {
     "iopub.execute_input": "2025-09-06T02:17:04.089837Z",
     "iopub.status.busy": "2025-09-06T02:17:04.089650Z",
     "iopub.status.idle": "2025-09-06T02:17:04.092785Z",
     "shell.execute_reply": "2025-09-06T02:17:04.091884Z"
    },
    "nbgrader": {
     "cell_type": "code",
     "checksum": "c4c272d3e1845e089db91be98d72ebcb",
     "grade": true,
     "grade_id": "cell-ff5dc9a618d915f1",
     "locked": true,
     "points": 5,
     "schema_version": 3,
     "solution": false,
     "task": false
    }
   },
   "outputs": [],
   "source": [
    "### BEGIN HIDDEN TESTS\n",
    "assert quotient == 29 // 5\n",
    "assert remainder == 29 % 5\n",
    "### END HIDDEN TESTS"
   ]
  },
  {
   "cell_type": "markdown",
   "id": "ba0fc1a4",
   "metadata": {
    "deletable": false,
    "editable": false,
    "nbgrader": {
     "cell_type": "markdown",
     "checksum": "0a7501b03434e53007219f781e40ac57",
     "grade": false,
     "grade_id": "cell-2753e9f17b5bd38e",
     "locked": true,
     "schema_version": 3,
     "solution": false,
     "task": false
    }
   },
   "source": [
    "# Part B: Geometry with Variables\n",
    "\n",
    "We will now use Python to compute areas and perimeters of geometric shapes."
   ]
  },
  {
   "cell_type": "code",
   "execution_count": 7,
   "id": "71eda1a1",
   "metadata": {
    "execution": {
     "iopub.execute_input": "2025-09-06T02:17:04.094634Z",
     "iopub.status.busy": "2025-09-06T02:17:04.094424Z",
     "iopub.status.idle": "2025-09-06T02:17:04.097703Z",
     "shell.execute_reply": "2025-09-06T02:17:04.097373Z"
    }
   },
   "outputs": [
    {
     "data": {
      "text/plain": [
       "(96, 40)"
      ]
     },
     "execution_count": 7,
     "metadata": {},
     "output_type": "execute_result"
    }
   ],
   "source": [
    "# Q4. Area and Perimeter of a Rectangle (5 marks)\n",
    "# length = 12, width = 8\n",
    "\n",
    "# YOUR CODE HERE\n",
    "length = 12\n",
    "width = 8\n",
    "area_rectangle = length * width\n",
    "perimeter_rectangle = 2 * (length + width)\n",
    "(area_rectangle, perimeter_rectangle)"
   ]
  },
  {
   "cell_type": "code",
   "execution_count": 8,
   "id": "c55b7923",
   "metadata": {
    "deletable": false,
    "editable": false,
    "execution": {
     "iopub.execute_input": "2025-09-06T02:17:04.099248Z",
     "iopub.status.busy": "2025-09-06T02:17:04.098988Z",
     "iopub.status.idle": "2025-09-06T02:17:04.101407Z",
     "shell.execute_reply": "2025-09-06T02:17:04.100966Z"
    },
    "nbgrader": {
     "cell_type": "code",
     "checksum": "95c8cae395e3f18661485f70a1d6e438",
     "grade": true,
     "grade_id": "cell-8a56ce34defe9567",
     "locked": true,
     "points": 5,
     "schema_version": 3,
     "solution": false,
     "task": false
    }
   },
   "outputs": [],
   "source": [
    "### BEGIN HIDDEN TESTS\n",
    "assert area_rectangle == 96\n",
    "assert perimeter_rectangle == 40\n",
    "### END HIDDEN TESTS"
   ]
  },
  {
   "cell_type": "code",
   "execution_count": 9,
   "id": "0a59df20",
   "metadata": {
    "execution": {
     "iopub.execute_input": "2025-09-06T02:17:04.103043Z",
     "iopub.status.busy": "2025-09-06T02:17:04.102852Z",
     "iopub.status.idle": "2025-09-06T02:17:04.106475Z",
     "shell.execute_reply": "2025-09-06T02:17:04.105996Z"
    }
   },
   "outputs": [
    {
     "data": {
      "text/plain": [
       "(153.93804002589985, 43.982297150257104)"
      ]
     },
     "execution_count": 9,
     "metadata": {},
     "output_type": "execute_result"
    }
   ],
   "source": [
    "# Q5. Area and Circumference of a Circle (5 marks)\n",
    "# radius r = 7\n",
    "\n",
    "import math\n",
    "\n",
    "# YOUR CODE HERE\n",
    "r = 7\n",
    "area_circle = math.pi * r**2\n",
    "circumference_circle = 2 * math.pi * r\n",
    "(area_circle, circumference_circle)"
   ]
  },
  {
   "cell_type": "code",
   "execution_count": 10,
   "id": "462f556b",
   "metadata": {
    "deletable": false,
    "editable": false,
    "execution": {
     "iopub.execute_input": "2025-09-06T02:17:04.108361Z",
     "iopub.status.busy": "2025-09-06T02:17:04.108118Z",
     "iopub.status.idle": "2025-09-06T02:17:04.110924Z",
     "shell.execute_reply": "2025-09-06T02:17:04.110521Z"
    },
    "nbgrader": {
     "cell_type": "code",
     "checksum": "9da8a22135ec8cc8a892209d41803385",
     "grade": true,
     "grade_id": "cell-29ebb4342da62834",
     "locked": true,
     "points": 5,
     "schema_version": 3,
     "solution": false,
     "task": false
    }
   },
   "outputs": [],
   "source": [
    "### BEGIN HIDDEN TESTS\n",
    "assert round(area_circle, 2) == round(math.pi * 7**2, 2)\n",
    "assert round(circumference_circle, 2) == round(2 * math.pi * 7, 2)\n",
    "### END HIDDEN TESTS"
   ]
  },
  {
   "cell_type": "code",
   "execution_count": 11,
   "id": "815c1438",
   "metadata": {
    "execution": {
     "iopub.execute_input": "2025-09-06T02:17:04.112689Z",
     "iopub.status.busy": "2025-09-06T02:17:04.112446Z",
     "iopub.status.idle": "2025-09-06T02:17:04.115658Z",
     "shell.execute_reply": "2025-09-06T02:17:04.115319Z"
    }
   },
   "outputs": [
    {
     "data": {
      "text/plain": [
       "84.0"
      ]
     },
     "execution_count": 11,
     "metadata": {},
     "output_type": "execute_result"
    }
   ],
   "source": [
    "# Q6. Area of a Triangle (Heron’s Formula) (5 marks)\n",
    "# Sides: a = 13, b = 14, c = 15\n",
    "\n",
    "import math\n",
    "\n",
    "# YOUR CODE HERE\n",
    "a, b, c = 13, 14, 15\n",
    "s = (a + b + c) / 2\n",
    "area_triangle = math.sqrt(s * (s - a) * (s - b) * (s - c))\n",
    "area_triangle"
   ]
  },
  {
   "cell_type": "code",
   "execution_count": 12,
   "id": "0528a13b",
   "metadata": {
    "deletable": false,
    "editable": false,
    "execution": {
     "iopub.execute_input": "2025-09-06T02:17:04.117334Z",
     "iopub.status.busy": "2025-09-06T02:17:04.117094Z",
     "iopub.status.idle": "2025-09-06T02:17:04.119883Z",
     "shell.execute_reply": "2025-09-06T02:17:04.119399Z"
    },
    "nbgrader": {
     "cell_type": "code",
     "checksum": "4753e9f55d87772cd52c48934bda7687",
     "grade": true,
     "grade_id": "cell-81d9361745e35217",
     "locked": true,
     "points": 5,
     "schema_version": 3,
     "solution": false,
     "task": false
    }
   },
   "outputs": [],
   "source": [
    "### BEGIN HIDDEN TESTS\n",
    "s_test = (13+14+15)/2\n",
    "assert round(area_triangle, 2) == round(math.sqrt(s_test*(s_test-13)*(s_test-14)*(s_test-15)), 2)\n",
    "### END HIDDEN TESTS"
   ]
  },
  {
   "cell_type": "markdown",
   "id": "38df1f46",
   "metadata": {
    "deletable": false,
    "editable": false,
    "nbgrader": {
     "cell_type": "markdown",
     "checksum": "d77d571acfbf6af27dfa5a1e12687158",
     "grade": false,
     "grade_id": "cell-c152e9b42874da99",
     "locked": true,
     "schema_version": 3,
     "solution": false,
     "task": false
    }
   },
   "source": [
    "# Part C: Practice Problems\n",
    "\n",
    "Apply your knowledge of variables and expressions to solve slightly more challenging problems."
   ]
  },
  {
   "cell_type": "code",
   "execution_count": 13,
   "id": "7bc596d6",
   "metadata": {
    "execution": {
     "iopub.execute_input": "2025-09-06T02:17:04.121628Z",
     "iopub.status.busy": "2025-09-06T02:17:04.121359Z",
     "iopub.status.idle": "2025-09-06T02:17:04.124942Z",
     "shell.execute_reply": "2025-09-06T02:17:04.124586Z"
    }
   },
   "outputs": [
    {
     "data": {
      "text/plain": [
       "98.6"
      ]
     },
     "execution_count": 13,
     "metadata": {},
     "output_type": "execute_result"
    }
   ],
   "source": [
    "# Q7. Temperature Conversion\n",
    "# Convert 37°C to Fahrenheit. (5 marks)\n",
    "\n",
    "# YOUR CODE HERE\n",
    "C = 37\n",
    "fahrenheit = (C * 9/5) + 32\n",
    "fahrenheit"
   ]
  },
  {
   "cell_type": "code",
   "execution_count": 14,
   "id": "f44050a6",
   "metadata": {
    "deletable": false,
    "editable": false,
    "execution": {
     "iopub.execute_input": "2025-09-06T02:17:04.126579Z",
     "iopub.status.busy": "2025-09-06T02:17:04.126346Z",
     "iopub.status.idle": "2025-09-06T02:17:04.403278Z",
     "shell.execute_reply": "2025-09-06T02:17:04.402739Z"
    },
    "nbgrader": {
     "cell_type": "code",
     "checksum": "1c12d1db3a1e2243bc3a0aca0ce3beb9",
     "grade": true,
     "grade_id": "cell-2c97727672eaac13",
     "locked": true,
     "points": 5,
     "schema_version": 3,
     "solution": false,
     "task": false
    }
   },
   "outputs": [
    {
     "ename": "AssertionError",
     "evalue": "",
     "output_type": "error",
     "traceback": [
      "\u001b[31m---------------------------------------------------------------------------\u001b[39m",
      "\u001b[31mAssertionError\u001b[39m                            Traceback (most recent call last)",
      "\u001b[36mCell\u001b[39m\u001b[36m \u001b[39m\u001b[32mIn[14]\u001b[39m\u001b[32m, line 2\u001b[39m\n\u001b[32m      1\u001b[39m \u001b[38;5;66;03m### BEGIN HIDDEN TESTS\u001b[39;00m\n\u001b[32m----> \u001b[39m\u001b[32m2\u001b[39m \u001b[38;5;28;01massert\u001b[39;00m fahrenheit == (\u001b[32m9\u001b[39m/\u001b[32m5\u001b[39m)*\u001b[32m37\u001b[39m + \u001b[32m32\u001b[39m\n\u001b[32m      3\u001b[39m \u001b[38;5;66;03m### END HIDDEN TESTS\u001b[39;00m\n",
      "\u001b[31mAssertionError\u001b[39m: "
     ]
    }
   ],
   "source": [
    "### BEGIN HIDDEN TESTS\n",
    "assert fahrenheit == (9/5)*37 + 32\n",
    "### END HIDDEN TESTS"
   ]
  },
  {
   "cell_type": "code",
   "execution_count": 15,
   "id": "e3edbf44",
   "metadata": {
    "execution": {
     "iopub.execute_input": "2025-09-06T02:17:04.405134Z",
     "iopub.status.busy": "2025-09-06T02:17:04.404896Z",
     "iopub.status.idle": "2025-09-06T02:17:04.408329Z",
     "shell.execute_reply": "2025-09-06T02:17:04.407890Z"
    }
   },
   "outputs": [
    {
     "data": {
      "text/plain": [
       "1102.5"
      ]
     },
     "execution_count": 15,
     "metadata": {},
     "output_type": "execute_result"
    }
   ],
   "source": [
    "# Q8. Compound Interest\n",
    "# P = 1000, r = 5%, t = 2 years (5 marks)\n",
    "\n",
    "# YOUR CODE HERE\n",
    "P = 1000\n",
    "r = 5\n",
    "t = 2\n",
    "amount = P * (1 + r/100)**t\n",
    "amount"
   ]
  },
  {
   "cell_type": "code",
   "execution_count": 16,
   "id": "3051cd43",
   "metadata": {
    "deletable": false,
    "editable": false,
    "execution": {
     "iopub.execute_input": "2025-09-06T02:17:04.410133Z",
     "iopub.status.busy": "2025-09-06T02:17:04.409842Z",
     "iopub.status.idle": "2025-09-06T02:17:04.412529Z",
     "shell.execute_reply": "2025-09-06T02:17:04.412029Z"
    },
    "nbgrader": {
     "cell_type": "code",
     "checksum": "7270bcd8b004b6e6565788d9ba79a565",
     "grade": true,
     "grade_id": "cell-b0fb25f1d246efb8",
     "locked": true,
     "points": 5,
     "schema_version": 3,
     "solution": false,
     "task": false
    }
   },
   "outputs": [],
   "source": [
    "### BEGIN HIDDEN TESTS\n",
    "assert round(amount, 2) == round(1000 * (1 + 0.05)**2, 2)\n",
    "### END HIDDEN TESTS"
   ]
  },
  {
   "cell_type": "code",
   "execution_count": 17,
   "id": "5f511af6",
   "metadata": {
    "execution": {
     "iopub.execute_input": "2025-09-06T02:17:04.414107Z",
     "iopub.status.busy": "2025-09-06T02:17:04.413932Z",
     "iopub.status.idle": "2025-09-06T02:17:04.417133Z",
     "shell.execute_reply": "2025-09-06T02:17:04.416714Z"
    }
   },
   "outputs": [
    {
     "data": {
      "text/plain": [
       "50.0"
      ]
     },
     "execution_count": 17,
     "metadata": {},
     "output_type": "execute_result"
    }
   ],
   "source": [
    "# Q9. Speed, Distance, and Time\n",
    "# Distance = 150 km, Time = 3 hours (5 marks)\n",
    "\n",
    "# YOUR CODE HERE\n",
    "distance = 150\n",
    "time = 3\n",
    "speed = distance / time\n",
    "speed"
   ]
  },
  {
   "cell_type": "code",
   "execution_count": 18,
   "id": "63e4ce5e",
   "metadata": {
    "deletable": false,
    "editable": false,
    "execution": {
     "iopub.execute_input": "2025-09-06T02:17:04.418936Z",
     "iopub.status.busy": "2025-09-06T02:17:04.418739Z",
     "iopub.status.idle": "2025-09-06T02:17:04.421086Z",
     "shell.execute_reply": "2025-09-06T02:17:04.420713Z"
    },
    "nbgrader": {
     "cell_type": "code",
     "checksum": "bbda93f557da4aab5b4e801d7a63e19f",
     "grade": true,
     "grade_id": "cell-c186ca1812cd28b6",
     "locked": true,
     "points": 5,
     "schema_version": 3,
     "solution": false,
     "task": false
    }
   },
   "outputs": [],
   "source": [
    "### BEGIN HIDDEN TESTS\n",
    "assert speed == 50\n",
    "### END HIDDEN TESTS"
   ]
  }
 ],
 "metadata": {
  "kernelspec": {
   "display_name": "Python 3 (ipykernel)",
   "language": "python",
   "name": "python3"
  },
  "language_info": {
   "codemirror_mode": {
    "name": "ipython",
    "version": 3
   },
   "file_extension": ".py",
   "mimetype": "text/x-python",
   "name": "python",
   "nbconvert_exporter": "python",
   "pygments_lexer": "ipython3",
   "version": "3.13.7"
  }
 },
 "nbformat": 4,
 "nbformat_minor": 5
}
