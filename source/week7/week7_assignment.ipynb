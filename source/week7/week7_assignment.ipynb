{
 "cells": [
  {
   "cell_type": "markdown",
   "id": "44e980ed",
   "metadata": {
    "nbgrader": {
     "grade": false,
     "grade_id": "cell-ec499001c2183b34",
     "locked": true,
     "schema_version": 3,
     "solution": false,
     "task": false
    }
   },
   "source": [
    "# Week 7: Lists, Tuples and Dictionaries\n",
    "\n",
    "## Learning Objectives\n",
    "In this lab, you will:\n",
    "- Manipulate and process **lists**\n",
    "- Convert between **lists** and **tuples**\n",
    "- Work with **dictionaries**\n",
    "- Apply these structures to perform counting, sorting, and data analysis tasks"
   ]
  },
  {
   "cell_type": "markdown",
   "id": "d8f4423b",
   "metadata": {
    "nbgrader": {
     "grade": false,
     "grade_id": "cell-0bd025adc63c8c5e",
     "locked": true,
     "schema_version": 3,
     "solution": false,
     "task": false
    }
   },
   "source": [
    "## Part 1 — Working with Lists\n",
    "\n",
    "Lists in Python are **mutable**, meaning you can modify their contents.  \n",
    "Let’s start with a few basic operations.\n",
    "\n",
    "### Example\n",
    "```python\n",
    "fruits = [\"apple\", \"banana\", \"cherry\"]\n",
    "fruits.append(\"mango\")\n",
    "print(fruits)\n",
    "```\n",
    "Expected Output:\n",
    "```\n",
    "['apple', 'banana', 'cherry', 'mango']\n",
    "```"
   ]
  },
  {
   "cell_type": "markdown",
   "id": "83f3967a",
   "metadata": {
    "nbgrader": {
     "grade": false,
     "grade_id": "cell-daf34311266230f6",
     "locked": true,
     "schema_version": 3,
     "solution": false,
     "task": false
    }
   },
   "source": [
    "### Q1. Create and manipulate a list (10 marks)\n",
    "\n",
    "Write a function `manipulate_list(numbers)` that:\n",
    "1. Takes a list of integers.\n",
    "2. Appends the number `100` to it.\n",
    "3. Returns the first 3 elements **and** the last 2 elements combined in a new list.\n",
    "\n",
    "**Example:**\n",
    "```python\n",
    "manipulate_list([10, 20, 30, 40, 50])\n",
    "```\n",
    "Output:\n",
    "```\n",
    "[10, 20, 30, 50, 100]\n",
    "```"
   ]
  },
  {
   "cell_type": "code",
   "execution_count": null,
   "id": "4618f67c",
   "metadata": {},
   "outputs": [],
   "source": [
    "def manipulate_list(numbers):\n",
    "    # YOUR CODE HERE"
   ]
  },
  {
   "cell_type": "code",
   "execution_count": null,
   "id": "0330101f",
   "metadata": {
    "nbgrader": {
     "grade": true,
     "grade_id": "cell-84770d039ec81b8d",
     "locked": true,
     "points": 10,
     "schema_version": 3,
     "solution": false,
     "task": false
    }
   },
   "outputs": [],
   "source": [
    "### BEGIN HIDDEN TESTS\n",
    "assert manipulate_list([10, 20, 30, 40, 50]) == [10, 20, 30, 50, 100]\n",
    "assert manipulate_list([1, 2, 3]) == [1, 2, 3, 100, 100]\n",
    "assert manipulate_list([]) == [100, 100]\n",
    "### END HIDDEN TESTS"
   ]
  },
  {
   "cell_type": "markdown",
   "id": "9436893f",
   "metadata": {
    "nbgrader": {
     "grade": false,
     "grade_id": "cell-332906d0fdc95c5f",
     "locked": true,
     "schema_version": 3,
     "solution": false,
     "task": false
    }
   },
   "source": [
    "## Part 2 — List Slicing\n",
    "\n",
    "You can access parts of a list using **slicing**:\n",
    "```python\n",
    "numbers = [1, 2, 3, 4, 5, 6]\n",
    "print(numbers[1:4])  # prints elements at index 1, 2, 3\n",
    "```"
   ]
  },
  {
   "cell_type": "markdown",
   "id": "9368b259",
   "metadata": {
    "nbgrader": {
     "grade": false,
     "grade_id": "cell-0dc18a467b4ffd63",
     "locked": true,
     "schema_version": 3,
     "solution": false,
     "task": false
    }
   },
   "source": [
    "### Q2. Reverse a list using slicing (10 marks)\n",
    "\n",
    "Write a function `reverse_list(lst)` that returns a reversed version of the list using slicing.\n",
    "\n",
    "**Example:**\n",
    "```python\n",
    "reverse_list([1, 2, 3])\n",
    "```\n",
    "Output:\n",
    "```\n",
    "[3, 2, 1]\n",
    "```"
   ]
  },
  {
   "cell_type": "code",
   "execution_count": null,
   "id": "0556435d",
   "metadata": {},
   "outputs": [],
   "source": [
    "def reverse_list(lst):\n",
    "    # YOUR CODE HERE"
   ]
  },
  {
   "cell_type": "code",
   "execution_count": null,
   "id": "ec3fd069",
   "metadata": {
    "nbgrader": {
     "grade": true,
     "grade_id": "cell-f6c61e70a693802a",
     "locked": true,
     "points": 10,
     "schema_version": 3,
     "solution": false,
     "task": false
    }
   },
   "outputs": [],
   "source": [
    "### BEGIN HIDDEN TESTS\n",
    "assert reverse_list([1, 2, 3]) == [3, 2, 1]\n",
    "assert reverse_list([\"a\", \"b\", \"c\"]) == [\"c\", \"b\", \"a\"]\n",
    "assert reverse_list([]) == []\n",
    "### END HIDDEN TESTS"
   ]
  },
  {
   "cell_type": "markdown",
   "id": "4eedfbd8",
   "metadata": {
    "nbgrader": {
     "grade": false,
     "grade_id": "cell-e08dd383f8fe9463",
     "locked": true,
     "schema_version": 3,
     "solution": false,
     "task": false
    }
   },
   "source": [
    "## Part 3 — Tuples and Conversion\n",
    "\n",
    "Tuples are **immutable** — once created, they cannot be changed.  \n",
    "But you can **convert** them to lists for manipulation.\n",
    "\n",
    "```python\n",
    "t = (1, 2, 3)\n",
    "lst = list(t)\n",
    "lst.append(4)\n",
    "t2 = tuple(lst)\n",
    "print(t2)\n",
    "```\n",
    "Output:\n",
    "```\n",
    "(1, 2, 3, 4)\n",
    "```\n"
   ]
  },
  {
   "cell_type": "markdown",
   "id": "c4f3a3bf",
   "metadata": {
    "nbgrader": {
     "grade": false,
     "grade_id": "cell-dd576831d8f2971d",
     "locked": true,
     "schema_version": 3,
     "solution": false,
     "task": false
    }
   },
   "source": [
    "### Q3. Convert between tuples and lists (10 marks)\n",
    "\n",
    "Write a function `tuple_to_list_and_back(t)` that:\n",
    "1. Converts tuple `t` to a list,\n",
    "2. Appends the string `'end'`,\n",
    "3. Converts it back to a tuple and returns it.\n",
    "\n",
    "**Example:**\n",
    "```python\n",
    "tuple_to_list_and_back((10, 20))\n",
    "```\n",
    "Output:\n",
    "```\n",
    "(10, 20, 'end')\n",
    "```"
   ]
  },
  {
   "cell_type": "code",
   "execution_count": null,
   "id": "f5d4e5ab",
   "metadata": {},
   "outputs": [],
   "source": [
    "def tuple_to_list_and_back(t):\n",
    "    # YOUR CODE HERE"
   ]
  },
  {
   "cell_type": "code",
   "execution_count": null,
   "id": "e5fd07e3",
   "metadata": {
    "nbgrader": {
     "grade": true,
     "grade_id": "cell-d637a4d9dda54ca9",
     "locked": true,
     "points": 10,
     "schema_version": 3,
     "solution": false,
     "task": false
    }
   },
   "outputs": [],
   "source": [
    "### BEGIN HIDDEN TESTS\n",
    "assert tuple_to_list_and_back((10, 20)) == (10, 20, 'end')\n",
    "assert tuple_to_list_and_back(()) == ('end',)\n",
    "assert tuple_to_list_and_back((\"x\",)) == ('x', 'end')\n",
    "### END HIDDEN TESTS"
   ]
  },
  {
   "cell_type": "markdown",
   "id": "b173fffa",
   "metadata": {
    "nbgrader": {
     "grade": false,
     "grade_id": "cell-d85a6ba0be7c285b",
     "locked": true,
     "schema_version": 3,
     "solution": false,
     "task": false
    }
   },
   "source": [
    "## Part 4 — Dictionaries\n",
    "\n",
    "Dictionaries store **key-value pairs** and are very efficient for lookups.  \n",
    "Example:\n",
    "```python\n",
    "marks = {\"Alice\": 85, \"Bob\": 90}\n",
    "print(marks[\"Alice\"])\n",
    "```\n",
    "Output:\n",
    "```\n",
    "85\n",
    "```"
   ]
  },
  {
   "cell_type": "markdown",
   "id": "ad822cec",
   "metadata": {
    "nbgrader": {
     "grade": false,
     "grade_id": "cell-d741c22610d53df4",
     "locked": true,
     "schema_version": 3,
     "solution": false,
     "task": false
    }
   },
   "source": [
    "### Q4. Count word occurrences (10 marks)\n",
    "\n",
    "Write a function `count_occurrences(words)` that takes a list of words and returns a dictionary with each word and its count.\n",
    "\n",
    "**Example:**\n",
    "```python\n",
    "count_occurrences([\"apple\", \"banana\", \"apple\", \"cherry\"])\n",
    "```\n",
    "Output:\n",
    "```\n",
    "{'apple': 2, 'banana': 1, 'cherry': 1}\n",
    "```"
   ]
  },
  {
   "cell_type": "code",
   "execution_count": null,
   "id": "f79f7b69",
   "metadata": {},
   "outputs": [],
   "source": [
    "def count_occurrences(words):\n",
    "    # YOUR CODE HERE"
   ]
  },
  {
   "cell_type": "code",
   "execution_count": null,
   "id": "af27ca3a",
   "metadata": {
    "nbgrader": {
     "grade": true,
     "grade_id": "cell-1f000126a4c4d124",
     "locked": true,
     "points": 10,
     "schema_version": 3,
     "solution": false,
     "task": false
    }
   },
   "outputs": [],
   "source": [
    "### BEGIN HIDDEN TESTS\n",
    "assert count_occurrences([\"apple\", \"banana\", \"apple\"]) == {'apple': 2, 'banana': 1}\n",
    "assert count_occurrences([]) == {}\n",
    "assert count_occurrences([\"x\", \"x\", \"x\"]) == {\"x\": 3}\n",
    "### END HIDDEN TESTS"
   ]
  },
  {
   "cell_type": "markdown",
   "id": "8cf08821",
   "metadata": {
    "nbgrader": {
     "grade": false,
     "grade_id": "cell-a3f1bcc01dd55528",
     "locked": true,
     "schema_version": 3,
     "solution": false,
     "task": false
    }
   },
   "source": [
    "## Part 5 — Sorting Data\n",
    "\n",
    "Dictionaries cannot be sorted directly, but we can sort their **items**.\n",
    "\n",
    "Example:\n",
    "```python\n",
    "data = {\"b\": 2, \"a\": 5, \"c\": 1}\n",
    "sorted_items = sorted(data.items())\n",
    "print(sorted_items)\n",
    "```\n",
    "Output:\n",
    "```\n",
    "[('a', 5), ('b', 2), ('c', 1)]\n",
    "```"
   ]
  },
  {
   "cell_type": "markdown",
   "id": "d93c1a37",
   "metadata": {
    "nbgrader": {
     "grade": false,
     "grade_id": "cell-f08d66168254fc0f",
     "locked": true,
     "schema_version": 3,
     "solution": false,
     "task": false
    }
   },
   "source": [
    "### Q5. Sort a dictionary by its values (descending) (10 marks)\n",
    "\n",
    "Write a function `sort_dict_by_value(d)` that returns a list of `(key, value)` pairs sorted in **descending order of values**.\n",
    "\n",
    "**Example:**\n",
    "```python\n",
    "sort_dict_by_value({'a': 3, 'b': 5, 'c': 1})\n",
    "```\n",
    "Output:\n",
    "```\n",
    "[('b', 5), ('a', 3), ('c', 1)]\n",
    "```"
   ]
  },
  {
   "cell_type": "code",
   "execution_count": null,
   "id": "12224b29",
   "metadata": {},
   "outputs": [],
   "source": [
    "def sort_dict_by_value(d):\n",
    "    # YOUR CODE HERE"
   ]
  },
  {
   "cell_type": "code",
   "execution_count": null,
   "id": "bbe2ba9b",
   "metadata": {
    "nbgrader": {
     "grade": true,
     "grade_id": "cell-a5d81022f7efa2fd",
     "locked": true,
     "points": 10,
     "schema_version": 3,
     "solution": false,
     "task": false
    }
   },
   "outputs": [],
   "source": [
    "### BEGIN HIDDEN TESTS\n",
    "assert sort_dict_by_value({'a': 3, 'b': 5, 'c': 1}) == [('b', 5), ('a', 3), ('c', 1)]\n",
    "assert sort_dict_by_value({}) == []\n",
    "assert sort_dict_by_value({'x': 10, 'y': 10}) in [[('x', 10), ('y', 10)], [('y', 10), ('x', 10)]]\n",
    "### END HIDDEN TESTS"
   ]
  },
  {
   "cell_type": "markdown",
   "id": "8ddafa6a",
   "metadata": {
    "nbgrader": {
     "grade": false,
     "grade_id": "cell-1d649f3e99a049ec",
     "locked": true,
     "schema_version": 3,
     "solution": false,
     "task": false
    }
   },
   "source": [
    "## Part 6 — Student Scores Summary\n",
    "\n",
    "You are given two lists:\n",
    "- `names = [\"Alice\", \"Bob\", \"Charlie\", \"David\"]`\n",
    "- `scores = [85, 90, 78, 92]`"
   ]
  },
  {
   "cell_type": "markdown",
   "id": "db3e60fd",
   "metadata": {
    "nbgrader": {
     "grade": false,
     "grade_id": "cell-28c2bee46dea3876",
     "locked": true,
     "schema_version": 3,
     "solution": false,
     "task": false
    }
   },
   "source": [
    "### Q6. Create a function `make_score_dict(names, scores)` that: (10 marks)\n",
    "1. Combines both lists into a dictionary of `{name: score}`.\n",
    "2. Returns the dictionary sorted in **descending order of scores**. \n",
    "\n",
    "**Example:**\n",
    "```python\n",
    "make_score_dict([\"Alice\", \"Bob\"], [85, 90])\n",
    "```\n",
    "Output:\n",
    "```\n",
    "[('Bob', 90), ('Alice', 85)]\n",
    "```"
   ]
  },
  {
   "cell_type": "code",
   "execution_count": null,
   "id": "ab42dcad",
   "metadata": {},
   "outputs": [],
   "source": [
    "def make_score_dict(names, scores):\n",
    "    # YOUR CODE HERE"
   ]
  },
  {
   "cell_type": "code",
   "execution_count": null,
   "id": "899e0fb3",
   "metadata": {
    "nbgrader": {
     "grade": true,
     "grade_id": "cell-024f0b9491547023",
     "locked": true,
     "points": 10,
     "schema_version": 3,
     "solution": false,
     "task": false
    }
   },
   "outputs": [],
   "source": [
    "### BEGIN HIDDEN TESTS\n",
    "assert make_score_dict([\"Alice\", \"Bob\"], [85, 90]) == [('Bob', 90), ('Alice', 85)]\n",
    "assert make_score_dict([], []) == []\n",
    "assert make_score_dict([\"X\"], [5]) == [(\"X\", 5)]\n",
    "### END HIDDEN TESTS"
   ]
  }
 ],
 "metadata": {
  "kernelspec": {
   "display_name": "Python 3 (ipykernel)",
   "language": "python",
   "name": "python3"
  },
  "language_info": {
   "codemirror_mode": {
    "name": "ipython",
    "version": 3
   },
   "file_extension": ".py",
   "mimetype": "text/x-python",
   "name": "python",
   "nbconvert_exporter": "python",
   "pygments_lexer": "ipython3",
   "version": "3.13.7"
  }
 },
 "nbformat": 4,
 "nbformat_minor": 5
}
