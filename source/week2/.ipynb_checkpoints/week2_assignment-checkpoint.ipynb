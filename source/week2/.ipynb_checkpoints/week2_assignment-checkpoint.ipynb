{
 "cells": [
  {
   "cell_type": "markdown",
   "id": "e62392c0",
   "metadata": {
    "nbgrader": {
     "grade": false,
     "grade_id": "cell-0baad7faa952cd13",
     "locked": true,
     "schema_version": 3,
     "solution": false,
     "task": false
    }
   },
   "source": [
    "# Week 2: Variables, Expressions, and Statements\n",
    "\n",
    "Welcome to **Week 2** of the Python Lab for MSc Mathematics students.  \n",
    "\n",
    "In this lab, you will:\n",
    "\n",
    "- Learn how to use variables in Python.  \n",
    "- Practice writing arithmetic expressions.  \n",
    "- Work with Python statements.  \n",
    "- Solve problems involving geometric shapes.  \n",
    "\n",
    "This lab is designed to be completed in **1 hour**. Please read the instructions carefully and attempt all exercises.  \n",
    "\n",
    "---\n",
    "\n",
    "## Learning Objectives\n",
    "\n",
    "By the end of this lab, you should be able to:\n",
    "\n",
    "1. Assign values to variables and use them in expressions.  \n",
    "2. Perform simple arithmetic operations in Python.  \n",
    "3. Write Python statements to compute areas and perimeters.  \n",
    "4. Develop problem-solving skills using variables and expressions.  \n",
    "\n",
    "---\n",
    "\n",
    "## Guidelines for Submissions\n",
    "\n",
    "- Write your code **only** in the space provided in code cells.  \n",
    "- Do not modify the test cells.  \n",
    "- Run all cells before submission to ensure correctness.  \n",
    "- Partial credit may be awarded if your code is logically correct but incomplete.  \n",
    "\n",
    "---\n",
    "\n",
    "# Part A: Variables and Arithmetic Expressions\n",
    "\n",
    "In this section, we will practice simple variable assignments and arithmetic.\n"
   ]
  },
  {
   "cell_type": "code",
   "execution_count": null,
   "id": "a25ed58e",
   "metadata": {},
   "outputs": [],
   "source": [
    "# Q1. Assigning and Printing Variables (5 marks)\n",
    "# Create three variables x, y, and z with the values 5, 10, and 15.\n",
    "# Then print them in a single line, separated by spaces.\n",
    "\n",
    "# YOUR CODE HERE\n",
    "x = ...\n",
    "y = ...\n",
    "z = ...\n",
    "print(...)"
   ]
  },
  {
   "cell_type": "code",
   "execution_count": null,
   "id": "2a3ba3de",
   "metadata": {
    "nbgrader": {
     "grade": true,
     "grade_id": "cell-f9c1a88999e10311",
     "locked": true,
     "points": 5,
     "schema_version": 3,
     "solution": false,
     "task": false
    }
   },
   "outputs": [],
   "source": [
    "### BEGIN HIDDEN TESTS\n",
    "assert x == 5\n",
    "assert y == 10\n",
    "assert z == 15\n",
    "### END HIDDEN TESTS"
   ]
  },
  {
   "cell_type": "code",
   "execution_count": null,
   "id": "d2ec6506",
   "metadata": {},
   "outputs": [],
   "source": [
    "# Q2. Simple Arithmetic (5 marks)\n",
    "# Compute result = (a + b) * (a - b) where a = 12 and b = 8.\n",
    "\n",
    "# YOUR CODE HERE\n",
    "a = 12\n",
    "b = 8\n",
    "result = ...\n",
    "result"
   ]
  },
  {
   "cell_type": "code",
   "execution_count": null,
   "id": "61d58496",
   "metadata": {
    "nbgrader": {
     "grade": true,
     "grade_id": "cell-3d55c5409a4c3b97",
     "locked": true,
     "points": 5,
     "schema_version": 3,
     "solution": false,
     "task": false
    }
   },
   "outputs": [],
   "source": [
    "### BEGIN HIDDEN TESTS\n",
    "assert result == (12 + 8) * (12 - 8)\n",
    "### END HIDDEN TESTS"
   ]
  },
  {
   "cell_type": "code",
   "execution_count": null,
   "id": "aa6e7644",
   "metadata": {},
   "outputs": [],
   "source": [
    "# Q3. Division and Remainder (5 marks)\n",
    "# For m = 29 and n = 5, compute quotient and remainder.\n",
    "\n",
    "# YOUR CODE HERE\n",
    "m = 29\n",
    "n = 5\n",
    "quotient = ...\n",
    "remainder = ...\n",
    "(quotient, remainder)"
   ]
  },
  {
   "cell_type": "code",
   "execution_count": null,
   "id": "b384d1f1",
   "metadata": {
    "nbgrader": {
     "grade": true,
     "grade_id": "cell-ff5dc9a618d915f1",
     "locked": true,
     "points": 5,
     "schema_version": 3,
     "solution": false,
     "task": false
    }
   },
   "outputs": [],
   "source": [
    "### BEGIN HIDDEN TESTS\n",
    "assert quotient == 29 // 5\n",
    "assert remainder == 29 % 5\n",
    "### END HIDDEN TESTS"
   ]
  },
  {
   "cell_type": "markdown",
   "id": "ba0fc1a4",
   "metadata": {
    "nbgrader": {
     "grade": false,
     "grade_id": "cell-2753e9f17b5bd38e",
     "locked": true,
     "schema_version": 3,
     "solution": false,
     "task": false
    }
   },
   "source": [
    "# Part B: Geometry with Variables\n",
    "\n",
    "We will now use Python to compute areas and perimeters of geometric shapes."
   ]
  },
  {
   "cell_type": "code",
   "execution_count": null,
   "id": "71eda1a1",
   "metadata": {},
   "outputs": [],
   "source": [
    "# Q4. Area and Perimeter of a Rectangle (5 marks)\n",
    "# length = 12, width = 8\n",
    "\n",
    "# YOUR CODE HERE\n",
    "length = 12\n",
    "width = 8\n",
    "area_rectangle = ...\n",
    "perimeter_rectangle = ...\n",
    "(area_rectangle, perimeter_rectangle)"
   ]
  },
  {
   "cell_type": "code",
   "execution_count": null,
   "id": "c55b7923",
   "metadata": {
    "nbgrader": {
     "grade": true,
     "grade_id": "cell-8a56ce34defe9567",
     "locked": true,
     "points": 5,
     "schema_version": 3,
     "solution": false,
     "task": false
    }
   },
   "outputs": [],
   "source": [
    "### BEGIN HIDDEN TESTS\n",
    "assert area_rectangle == 96\n",
    "assert perimeter_rectangle == 40\n",
    "### END HIDDEN TESTS"
   ]
  },
  {
   "cell_type": "code",
   "execution_count": null,
   "id": "0a59df20",
   "metadata": {},
   "outputs": [],
   "source": [
    "# Q5. Area and Circumference of a Circle (5 marks)\n",
    "# radius r = 7\n",
    "\n",
    "import math\n",
    "\n",
    "# YOUR CODE HERE\n",
    "r = 7\n",
    "area_circle = ...\n",
    "circumference_circle = ...\n",
    "(area_circle, circumference_circle)"
   ]
  },
  {
   "cell_type": "code",
   "execution_count": null,
   "id": "462f556b",
   "metadata": {
    "nbgrader": {
     "grade": true,
     "grade_id": "cell-29ebb4342da62834",
     "locked": true,
     "points": 5,
     "schema_version": 3,
     "solution": false,
     "task": false
    }
   },
   "outputs": [],
   "source": [
    "### BEGIN HIDDEN TESTS\n",
    "assert round(area_circle, 2) == round(math.pi * 7**2, 2)\n",
    "assert round(circumference_circle, 2) == round(2 * math.pi * 7, 2)\n",
    "### END HIDDEN TESTS"
   ]
  },
  {
   "cell_type": "code",
   "execution_count": null,
   "id": "815c1438",
   "metadata": {},
   "outputs": [],
   "source": [
    "# Q6. Area of a Triangle (Heron’s Formula) (5 marks)\n",
    "# Sides: a = 13, b = 14, c = 15\n",
    "\n",
    "import math\n",
    "\n",
    "# YOUR CODE HERE\n",
    "a, b, c = 13, 14, 15\n",
    "s = ...\n",
    "area_triangle = ...\n",
    "area_triangle"
   ]
  },
  {
   "cell_type": "code",
   "execution_count": null,
   "id": "0528a13b",
   "metadata": {
    "nbgrader": {
     "grade": true,
     "grade_id": "cell-81d9361745e35217",
     "locked": true,
     "points": 5,
     "schema_version": 3,
     "solution": false,
     "task": false
    }
   },
   "outputs": [],
   "source": [
    "### BEGIN HIDDEN TESTS\n",
    "s_test = (13+14+15)/2\n",
    "assert round(area_triangle, 2) == round(math.sqrt(s_test*(s_test-13)*(s_test-14)*(s_test-15)), 2)\n",
    "### END HIDDEN TESTS"
   ]
  },
  {
   "cell_type": "markdown",
   "id": "38df1f46",
   "metadata": {
    "nbgrader": {
     "grade": false,
     "grade_id": "cell-c152e9b42874da99",
     "locked": true,
     "schema_version": 3,
     "solution": false,
     "task": false
    }
   },
   "source": [
    "# Part C: Practice Problems\n",
    "\n",
    "Apply your knowledge of variables and expressions to solve slightly more challenging problems."
   ]
  },
  {
   "cell_type": "code",
   "execution_count": null,
   "id": "7bc596d6",
   "metadata": {},
   "outputs": [],
   "source": [
    "# Q7. Temperature Conversion\n",
    "# Convert 37°C to Fahrenheit. (5 marks)\n",
    "\n",
    "# YOUR CODE HERE\n",
    "C = 37\n",
    "fahrenheit = ...\n",
    "fahrenheit"
   ]
  },
  {
   "cell_type": "code",
   "execution_count": null,
   "id": "f44050a6",
   "metadata": {
    "nbgrader": {
     "grade": true,
     "grade_id": "cell-2c97727672eaac13",
     "locked": true,
     "points": 5,
     "schema_version": 3,
     "solution": false,
     "task": false
    }
   },
   "outputs": [],
   "source": [
    "### BEGIN HIDDEN TESTS\n",
    "assert fahrenheit == (9/5)*37 + 32\n",
    "### END HIDDEN TESTS"
   ]
  },
  {
   "cell_type": "code",
   "execution_count": null,
   "id": "e3edbf44",
   "metadata": {},
   "outputs": [],
   "source": [
    "# Q8. Compound Interest\n",
    "# P = 1000, r = 5%, t = 2 years (5 marks)\n",
    "\n",
    "# YOUR CODE HERE\n",
    "P = 1000\n",
    "r = 5\n",
    "t = 2\n",
    "amount = ...\n",
    "amount"
   ]
  },
  {
   "cell_type": "code",
   "execution_count": null,
   "id": "3051cd43",
   "metadata": {
    "nbgrader": {
     "grade": true,
     "grade_id": "cell-b0fb25f1d246efb8",
     "locked": true,
     "points": 5,
     "schema_version": 3,
     "solution": false,
     "task": false
    }
   },
   "outputs": [],
   "source": [
    "### BEGIN HIDDEN TESTS\n",
    "assert round(amount, 2) == round(1000 * (1 + 0.05)**2, 2)\n",
    "### END HIDDEN TESTS"
   ]
  },
  {
   "cell_type": "code",
   "execution_count": null,
   "id": "5f511af6",
   "metadata": {},
   "outputs": [],
   "source": [
    "# Q9. Speed, Distance, and Time\n",
    "# Distance = 150 km, Time = 3 hours (5 marks)\n",
    "\n",
    "# YOUR CODE HERE\n",
    "distance = 150\n",
    "time = 3\n",
    "speed = ...\n",
    "speed"
   ]
  },
  {
   "cell_type": "code",
   "execution_count": null,
   "id": "63e4ce5e",
   "metadata": {
    "nbgrader": {
     "grade": true,
     "grade_id": "cell-c186ca1812cd28b6",
     "locked": true,
     "points": 5,
     "schema_version": 3,
     "solution": false,
     "task": false
    }
   },
   "outputs": [],
   "source": [
    "### BEGIN HIDDEN TESTS\n",
    "assert speed == 50\n",
    "### END HIDDEN TESTS"
   ]
  }
 ],
 "metadata": {
  "kernelspec": {
   "display_name": "Python 3 (ipykernel)",
   "language": "python",
   "name": "python3"
  },
  "language_info": {
   "codemirror_mode": {
    "name": "ipython",
    "version": 3
   },
   "file_extension": ".py",
   "mimetype": "text/x-python",
   "name": "python",
   "nbconvert_exporter": "python",
   "pygments_lexer": "ipython3",
   "version": "3.13.7"
  }
 },
 "nbformat": 4,
 "nbformat_minor": 5
}
