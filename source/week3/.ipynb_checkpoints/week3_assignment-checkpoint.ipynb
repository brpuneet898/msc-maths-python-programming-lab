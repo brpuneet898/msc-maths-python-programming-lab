{
 "cells": [
  {
   "cell_type": "markdown",
   "id": "b0a60410",
   "metadata": {
    "nbgrader": {
     "grade": false,
     "grade_id": "cell-e8721dca8b2f8116",
     "locked": true,
     "schema_version": 3,
     "solution": false,
     "task": false
    }
   },
   "source": [
    "# Week 3: Conditionals and Boolean Expressions\n",
    "\n",
    "Welcome to Week 3 of the Python Programming Lab for MSc Mathematics students.  \n",
    "In this lab, we will practice **Boolean expressions** and **conditional statements (`if`, `elif`, `else`)**.  \n",
    "\n",
    "By the end of this lab, you should be able to:\n",
    "- Understand Boolean values (`True`, `False`) and relational operators.  \n",
    "- Write conditional expressions using `if`, `elif`, and `else`.  \n",
    "- Solve problems like determining whether a number is even/odd.  \n",
    "- Use conditionals to classify triangles.  \n",
    "\n",
    "---\n",
    "\n",
    "## Part 1: Boolean Expressions\n",
    "\n",
    "Boolean expressions evaluate to `True` or `False`.  \n",
    "Examples:\n",
    "- `5 > 3` → `True`  \n",
    "- `10 == 2*5` → `True`  \n",
    "- `7 < 2` → `False`  \n",
    "\n",
    "Try running the following examples:"
   ]
  },
  {
   "cell_type": "code",
   "execution_count": null,
   "id": "e66c8185-fb70-4622-bf6f-2ccd03592205",
   "metadata": {},
   "outputs": [],
   "source": [
    "# Example: Boolean expressions\n",
    "print(5 > 3)\n",
    "print(10 == 2*5)\n",
    "print(7 < 2)"
   ]
  },
  {
   "cell_type": "markdown",
   "id": "d28669ed",
   "metadata": {
    "nbgrader": {
     "grade": false,
     "grade_id": "cell-a7f4c5e3a1487fba",
     "locked": true,
     "schema_version": 3,
     "solution": false,
     "task": false
    }
   },
   "source": [
    "## Part 2: Using `if`, `elif`, and `else`\n",
    "\n",
    "The `if` statement allows your program to make decisions.\n",
    "\n",
    "**Syntax:**\n",
    "\n",
    "```python\n",
    "if (condition):\n",
    "    # block executed if condition is True\n",
    "elif (another_condition):\n",
    "    # block executed if previous condition was False but this is True\n",
    "else:\n",
    "    # block executed if none of the above are True\n",
    "```"
   ]
  },
  {
   "cell_type": "code",
   "execution_count": null,
   "id": "cbe6c477",
   "metadata": {},
   "outputs": [],
   "source": [
    "# Example: Checking if a number is positive, negative, or zero\n",
    "x = 5\n",
    "if x > 0:\n",
    "    print(\"Positive\")\n",
    "elif x == 0:\n",
    "    print(\"Zero\")\n",
    "else:\n",
    "    print(\"Negative\")"
   ]
  },
  {
   "cell_type": "markdown",
   "id": "04d2dc0b",
   "metadata": {
    "nbgrader": {
     "grade": false,
     "grade_id": "cell-7f2f2eb599e11ce5",
     "locked": true,
     "schema_version": 3,
     "solution": false,
     "task": false
    }
   },
   "source": [
    "## Part 3: Assignments\n",
    "\n",
    "### Q1. Even or Odd (10 marks)\n",
    "\n",
    "Write a function `even_or_odd(n)` that returns:\n",
    "- `\"Even\"` if `n` is even  \n",
    "- `\"Odd\"` if `n` is odd  \n",
    "\n",
    "**Example:**\n",
    "- `even_or_odd(4)` → `\"Even\"`\n",
    "- `even_or_odd(7)` → `\"Odd\"`"
   ]
  },
  {
   "cell_type": "code",
   "execution_count": null,
   "id": "67607297",
   "metadata": {},
   "outputs": [],
   "source": [
    "def even_or_odd(n: int) -> str:\n",
    "    \"\"\"\n",
    "    Return \"Even\" if the number is even, otherwise return \"Odd\".\n",
    "    \"\"\"\n",
    "    # YOUR CODE HERE\n",
    "    if ():\n",
    "        return \"Even\"\n",
    "    else:\n",
    "        return \"Odd\"\n",
    "\n",
    "# Test cases\n",
    "print(even_or_odd(2))  # Expected \"Even\"\n",
    "print(even_or_odd(7))  # Expected \"Odd\""
   ]
  },
  {
   "cell_type": "code",
   "execution_count": null,
   "id": "dada11ff",
   "metadata": {
    "nbgrader": {
     "grade": true,
     "grade_id": "cell-f3fc8e60df1af6c5",
     "locked": true,
     "points": 10,
     "schema_version": 3,
     "solution": false,
     "task": false
    }
   },
   "outputs": [],
   "source": [
    "### BEGIN HIDDEN TESTS\n",
    "assert even_or_odd(10) == \"Even\"\n",
    "assert even_or_odd(13) == \"Odd\"\n",
    "assert even_or_odd(0) == \"Even\"\n",
    "### END HIDDEN TESTS"
   ]
  },
  {
   "cell_type": "markdown",
   "id": "24f1ae8c",
   "metadata": {
    "nbgrader": {
     "grade": false,
     "grade_id": "cell-1139b8fc1bda14e7",
     "locked": true,
     "schema_version": 3,
     "solution": false,
     "task": false
    }
   },
   "source": [
    "### Q2. Maximum of Three Numbers (10 marks)\n",
    "\n",
    "Write a function `max_of_three(a, b, c)` that returns the largest among `a`, `b`, and `c`.\n",
    "\n",
    "**Example:**\n",
    "- `max_of_three(3, 7, 5)` → `7`"
   ]
  },
  {
   "cell_type": "code",
   "execution_count": null,
   "id": "5a69cfd3",
   "metadata": {},
   "outputs": [],
   "source": [
    "def max_of_three(a: int, b: int, c: int) -> int:\n",
    "    \"\"\"\n",
    "    Return the largest among a, b, and c.\n",
    "    \"\"\"\n",
    "    # YOUR CODE HERE\n",
    "    if ():\n",
    "        return a\n",
    "    elif ():\n",
    "        return b\n",
    "    else:\n",
    "        return c\n",
    "\n",
    "# Test cases\n",
    "print(max_of_three(3, 7, 5))   # Expected 7\n",
    "print(max_of_three(-1, -5, -3)) # Expected -1"
   ]
  },
  {
   "cell_type": "code",
   "execution_count": null,
   "id": "65096885",
   "metadata": {
    "nbgrader": {
     "grade": true,
     "grade_id": "cell-5fd75c56aaaa166d",
     "locked": true,
     "points": 10,
     "schema_version": 3,
     "solution": false,
     "task": false
    }
   },
   "outputs": [],
   "source": [
    "### BEGIN HIDDEN TESTS\n",
    "assert max_of_three(10, 20, 30) == 30\n",
    "assert max_of_three(50, 20, 10) == 50\n",
    "assert max_of_three(7, 7, 7) == 7\n",
    "### END HIDDEN TESTS"
   ]
  },
  {
   "cell_type": "markdown",
   "id": "e9cc07ce",
   "metadata": {
    "nbgrader": {
     "grade": false,
     "grade_id": "cell-e6e87b6703ea1f1f",
     "locked": true,
     "schema_version": 3,
     "solution": false,
     "task": false
    }
   },
   "source": [
    "### Q3. Leap Year Checker (10 marks)\n",
    "\n",
    "Write a function `is_leap_year(year)` that returns:\n",
    "- `True` if the year is a leap year  \n",
    "- `False` otherwise  \n",
    "\n",
    "**Rules for leap year:**\n",
    "- Year divisible by 4 → leap year  \n",
    "- But if divisible by 100 → not a leap year  \n",
    "- Unless also divisible by 400 → leap year  \n",
    "\n",
    "**Example:**\n",
    "- `is_leap_year(2000)` → `True`  \n",
    "- `is_leap_year(1900)` → `False`  \n",
    "- `is_leap_year(2024)` → `True`"
   ]
  },
  {
   "cell_type": "code",
   "execution_count": null,
   "id": "ac55d9b3",
   "metadata": {},
   "outputs": [],
   "source": [
    "def is_leap_year(year: int) -> bool:\n",
    "    \"\"\"\n",
    "    Return True if year is a leap year, else False.\n",
    "    \"\"\"\n",
    "    # YOUR CODE HERE\n",
    "    if ():\n",
    "        return True\n",
    "    else:\n",
    "        return False\n",
    "    \n",
    "    ### **This is one possible way to implement the logic. Feel free to use any valid approach.**\n",
    "\n",
    "# Test cases \n",
    "print(is_leap_year(2000))  # Expected True\n",
    "print(is_leap_year(1900))  # Expected False\n",
    "print(is_leap_year(2024))  # Expected True"
   ]
  },
  {
   "cell_type": "code",
   "execution_count": null,
   "id": "d175fe95",
   "metadata": {
    "nbgrader": {
     "grade": true,
     "grade_id": "cell-9d37ae1ad21637b1",
     "locked": true,
     "points": 10,
     "schema_version": 3,
     "solution": false,
     "task": false
    }
   },
   "outputs": [],
   "source": [
    "### BEGIN HIDDEN TESTS\n",
    "assert is_leap_year(2100) == False\n",
    "assert is_leap_year(2400) == True\n",
    "assert is_leap_year(2023) == False\n",
    "### END HIDDEN TESTS"
   ]
  },
  {
   "cell_type": "markdown",
   "id": "df2e6a97",
   "metadata": {
    "nbgrader": {
     "grade": false,
     "grade_id": "cell-91ef83225f087a57",
     "locked": true,
     "schema_version": 3,
     "solution": false,
     "task": false
    }
   },
   "source": [
    "### Q4. Triangle Classifier (20 marks)\n",
    "\n",
    "Write a function `classify_triangle(a, b, c)` that classifies a triangle based on side lengths:\n",
    "- `\"Equilateral\"` → all sides equal  \n",
    "- `\"Isosceles\"` → exactly two sides equal  \n",
    "- `\"Scalene\"` → all sides different  \n",
    "- `\"Not a Triangle\"` → if the given sides do not form a valid triangle  \n",
    "\n",
    "**Hint:** For three sides `a, b, c` to form a triangle:\n",
    "- `a + b > c`, `a + c > b`, and `b + c > a` must all hold true.\n",
    "\n",
    "**Examples:**\n",
    "- `classify_triangle(3, 3, 3)` → `\"Equilateral\"`  \n",
    "- `classify_triangle(3, 4, 4)` → `\"Isosceles\"`  \n",
    "- `classify_triangle(3, 4, 5)` → `\"Scalene\"`  \n",
    "- `classify_triangle(1, 2, 3)` → `\"Not a Triangle\"`"
   ]
  },
  {
   "cell_type": "code",
   "execution_count": null,
   "id": "31898581",
   "metadata": {},
   "outputs": [],
   "source": [
    "def classify_triangle(a: int, b: int, c: int) -> str:\n",
    "    \"\"\"\n",
    "    Classify the triangle based on side lengths.\n",
    "    \"\"\"\n",
    "    # YOUR CODE HERE\n",
    "    if ():\n",
    "        return \"Not a Triangle\"\n",
    "    \n",
    "    if ():\n",
    "        return \"Equilateral\"\n",
    "    elif ():\n",
    "        return \"Isosceles\"\n",
    "    else:\n",
    "        return \"Scalene\"\n",
    "\n",
    "# Test cases\n",
    "print(classify_triangle(3, 3, 3))  # Expected \"Equilateral\"\n",
    "print(classify_triangle(3, 4, 4))  # Expected \"Isosceles\"\n",
    "print(classify_triangle(1, 2, 3))  # Expected \"Not a Triangle\""
   ]
  },
  {
   "cell_type": "code",
   "execution_count": null,
   "id": "0b2249a2",
   "metadata": {
    "nbgrader": {
     "grade": true,
     "grade_id": "cell-ab41c168aee1f669",
     "locked": true,
     "points": 20,
     "schema_version": 3,
     "solution": false,
     "task": false
    }
   },
   "outputs": [],
   "source": [
    "### BEGIN HIDDEN TESTS\n",
    "assert classify_triangle(3, 4, 5) == \"Scalene\"\n",
    "assert classify_triangle(10, 10, 15) == \"Isosceles\"\n",
    "assert classify_triangle(5, 5, 5) == \"Equilateral\"\n",
    "assert classify_triangle(2, 2, 5) == \"Not a Triangle\"\n",
    "### END HIDDEN TESTS"
   ]
  },
  {
   "cell_type": "markdown",
   "id": "dbd0587e",
   "metadata": {
    "nbgrader": {
     "grade": false,
     "grade_id": "cell-7b83e9e59eb42f22",
     "locked": true,
     "schema_version": 3,
     "solution": false,
     "task": false
    }
   },
   "source": [
    "## Part 4: Reflection Questions (No Grading)\n",
    "\n",
    "Answer the following in your own words (write in a markdown cell):\n",
    "\n",
    "1. What is the difference between `if` and `elif`?  \n",
    "2. Why do we need the `else` statement? Can we write conditionals without it?  \n",
    "3. What checks must be satisfied for three numbers to form a triangle?  "
   ]
  }
 ],
 "metadata": {
  "kernelspec": {
   "display_name": "Python 3 (ipykernel)",
   "language": "python",
   "name": "python3"
  },
  "language_info": {
   "codemirror_mode": {
    "name": "ipython",
    "version": 3
   },
   "file_extension": ".py",
   "mimetype": "text/x-python",
   "name": "python",
   "nbconvert_exporter": "python",
   "pygments_lexer": "ipython3",
   "version": "3.13.7"
  }
 },
 "nbformat": 4,
 "nbformat_minor": 5
}
