{
 "cells": [
  {
   "cell_type": "markdown",
   "id": "2df4c32e",
   "metadata": {
    "nbgrader": {
     "grade": false,
     "grade_id": "cell-dc1474962c5f5956",
     "locked": true,
     "schema_version": 3,
     "solution": false,
     "task": false
    }
   },
   "source": [
    "# Week 9: Data Visualisation using Matplotlib\n",
    "\n",
    "## Introduction\n",
    "\n",
    "Data visualisation is a key aspect of mathematical computing and scientific programming.  \n",
    "In this assignment, you will:\n",
    "- Plot mathematical functions using `matplotlib`\n",
    "- Create scatter plots\n",
    "- Add labels, titles, legends, and annotations\n",
    "- Visualise mathematical sequences\n",
    "\n",
    "## Instructions\n",
    "\n",
    "1. Do not change the function names.\n",
    "2. Do not add or remove parameters from function definitions.\n",
    "3. Plots should be generated using `matplotlib.pyplot`.\n",
    "4. Each function must return the figure object for testing purposes.\n",
    "5. Run all cells to verify outputs."
   ]
  },
  {
   "cell_type": "markdown",
   "id": "2e91dbf4",
   "metadata": {
    "nbgrader": {
     "grade": false,
     "grade_id": "cell-6f3d31c71c48d85f",
     "locked": true,
     "schema_version": 3,
     "solution": false,
     "task": false
    }
   },
   "source": [
    "## 1: Plot Sine Function (5 marks)\n",
    "\n",
    "Write a function `plot_sine` that:\n",
    "- Takes no arguments\n",
    "- Plots the function `y = sin(x)` for `x` from `0` to `2π`\n",
    "- Labels the x-axis as `\"x\"`, y-axis as `\"sin(x)\"`, and title as `\"Sine Function\"`\n",
    "- Returns the figure object"
   ]
  },
  {
   "cell_type": "code",
   "execution_count": null,
   "id": "89221a5e",
   "metadata": {},
   "outputs": [],
   "source": [
    "import numpy as np\n",
    "import matplotlib.pyplot as plt\n",
    "\n",
    "def plot_sine():\n",
    "    "
   ]
  },
  {
   "cell_type": "code",
   "execution_count": null,
   "id": "87bc6997",
   "metadata": {
    "nbgrader": {
     "grade": true,
     "grade_id": "cell-b1772873e629ed11",
     "locked": true,
     "points": 5,
     "schema_version": 3,
     "solution": false,
     "task": false
    }
   },
   "outputs": [],
   "source": [
    "### BEGIN HIDDEN TESTS\n",
    "fig = plot_sine()\n",
    "assert fig is not None\n",
    "plt.close(fig)\n",
    "### END HIDDEN TESTS"
   ]
  },
  {
   "cell_type": "markdown",
   "id": "29e32f5a",
   "metadata": {
    "nbgrader": {
     "grade": false,
     "grade_id": "cell-69eba9aa194af58b",
     "locked": true,
     "schema_version": 3,
     "solution": false,
     "task": false
    }
   },
   "source": [
    "## 2: Exponential Plot (5 marks)\n",
    "\n",
    "Write a function `plot_exponential` that:\n",
    "- Plots the function `y = e^x` for `x` in the range `0` to `5`\n",
    "- Titles the plot `\"Exponential Function\"`\n",
    "- Adds labels `\"x\"` and `\"exp(x)\"` on respective axes\n",
    "- Returns the figure object"
   ]
  },
  {
   "cell_type": "code",
   "execution_count": null,
   "id": "3b967604",
   "metadata": {},
   "outputs": [],
   "source": [
    "def plot_exponential():"
   ]
  },
  {
   "cell_type": "code",
   "execution_count": null,
   "id": "e454b0f0",
   "metadata": {
    "nbgrader": {
     "grade": true,
     "grade_id": "cell-6c4733386e6b6416",
     "locked": true,
     "points": 5,
     "schema_version": 3,
     "solution": false,
     "task": false
    }
   },
   "outputs": [],
   "source": [
    "### BEGIN HIDDEN TESTS\n",
    "fig = plot_exponential()\n",
    "assert fig is not None\n",
    "plt.close(fig)\n",
    "### END HIDDEN TESTS"
   ]
  },
  {
   "cell_type": "markdown",
   "id": "fbd5c332",
   "metadata": {
    "nbgrader": {
     "grade": false,
     "grade_id": "cell-f0691d62c3b82afd",
     "locked": true,
     "schema_version": 3,
     "solution": false,
     "task": false
    }
   },
   "source": [
    "## 3: Scatter Plot of Random Points (5 marks)\n",
    "\n",
    "Write a function `scatter_points` that:\n",
    "- Takes two lists `x_vals` and `y_vals`\n",
    "- Creates a scatter plot\n",
    "- Adds the title `\"Scatter Plot\"`\n",
    "- Labels the axes appropriately\n",
    "- Returns the figure object\n"
   ]
  },
  {
   "cell_type": "code",
   "execution_count": null,
   "id": "c89a737b",
   "metadata": {},
   "outputs": [],
   "source": [
    "def scatter_points(x_vals, y_vals):"
   ]
  },
  {
   "cell_type": "code",
   "execution_count": null,
   "id": "4d58dca7",
   "metadata": {
    "nbgrader": {
     "grade": true,
     "grade_id": "cell-0dda63630e45fa8f",
     "locked": true,
     "points": 5,
     "schema_version": 3,
     "solution": false,
     "task": false
    }
   },
   "outputs": [],
   "source": [
    "### BEGIN HIDDEN TESTS\n",
    "fig = scatter_points([1,2], [3,4])\n",
    "assert fig is not None\n",
    "plt.close(fig)\n",
    "### END HIDDEN TESTS"
   ]
  },
  {
   "cell_type": "markdown",
   "id": "5dd2d518",
   "metadata": {
    "nbgrader": {
     "grade": false,
     "grade_id": "cell-0947399e24c8a97c",
     "locked": true,
     "schema_version": 3,
     "solution": false,
     "task": false
    }
   },
   "source": [
    "## 4: Annotate a Point on a Graph (5 marks)\n",
    "\n",
    "Write a function `annotate_graph` that:\n",
    "- Plots `y = x^2` for `x` in range -5 to 5\n",
    "- Annotates the point (2, 4) with the label `\"Point (2,4)\"`\n",
    "- Returns the figure object"
   ]
  },
  {
   "cell_type": "code",
   "execution_count": null,
   "id": "35abb99c",
   "metadata": {},
   "outputs": [],
   "source": [
    "def annotate_graph():"
   ]
  },
  {
   "cell_type": "code",
   "execution_count": null,
   "id": "ee897e2c",
   "metadata": {
    "nbgrader": {
     "grade": true,
     "grade_id": "cell-bce0ee724f5395dd",
     "locked": true,
     "points": 5,
     "schema_version": 3,
     "solution": false,
     "task": false
    }
   },
   "outputs": [],
   "source": [
    "### BEGIN HIDDEN TESTS\n",
    "fig = annotate_graph()\n",
    "assert fig is not None\n",
    "plt.close(fig)\n",
    "### END HIDDEN TESTS"
   ]
  },
  {
   "cell_type": "markdown",
   "id": "c3b2fa6d",
   "metadata": {
    "nbgrader": {
     "grade": false,
     "grade_id": "cell-43a14bf06845e092",
     "locked": true,
     "schema_version": 3,
     "solution": false,
     "task": false
    }
   },
   "source": [
    "## 5: Visualise a Mathematical Sequence (5 marks)\n",
    "\n",
    "Write a function `plot_sequence` that:\n",
    "- Takes an integer `n`\n",
    "- Generates the first `n` terms of the sequence: `a_n = n^2 + 1`\n",
    "- Plots it as a line graph with markers\n",
    "- Labels the sequence as `\"a_n = n^2 + 1\"`\n",
    "- Returns the figure object\n",
    "\n",
    "### Example\n",
    "For n = 5 → The sequence is [2, 5, 10, 17, 26]"
   ]
  },
  {
   "cell_type": "code",
   "execution_count": null,
   "id": "e4952c39",
   "metadata": {},
   "outputs": [],
   "source": [
    "def plot_sequence(n: int):"
   ]
  },
  {
   "cell_type": "code",
   "execution_count": null,
   "id": "58353c5b",
   "metadata": {
    "nbgrader": {
     "grade": true,
     "grade_id": "cell-60e30ae51473dfae",
     "locked": true,
     "points": 5,
     "schema_version": 3,
     "solution": false,
     "task": false
    }
   },
   "outputs": [],
   "source": [
    "### BEGIN HIDDEN TESTS\n",
    "fig = plot_sequence(5)\n",
    "assert fig is not None\n",
    "plt.close(fig)\n",
    "### END HIDDEN TESTS"
   ]
  }
 ],
 "metadata": {
  "kernelspec": {
   "display_name": "Python 3 (ipykernel)",
   "language": "python",
   "name": "python3"
  },
  "language_info": {
   "codemirror_mode": {
    "name": "ipython",
    "version": 3
   },
   "file_extension": ".py",
   "mimetype": "text/x-python",
   "name": "python",
   "nbconvert_exporter": "python",
   "pygments_lexer": "ipython3",
   "version": "3.13.7"
  }
 },
 "nbformat": 4,
 "nbformat_minor": 5
}
