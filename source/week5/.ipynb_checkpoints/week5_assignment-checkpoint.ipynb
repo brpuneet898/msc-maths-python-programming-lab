{
 "cells": [
  {
   "cell_type": "markdown",
   "id": "4c679630",
   "metadata": {
    "nbgrader": {
     "grade": false,
     "grade_id": "cell-5ba306915aa45a46",
     "locked": true,
     "schema_version": 3,
     "solution": false,
     "task": false
    }
   },
   "source": [
    "# Week 5: Functions\n",
    "\n",
    "## Introduction\n",
    "\n",
    "In this assignment, you will practice writing and using **functions** in Python.  \n",
    "Functions are reusable blocks of code that help in breaking down problems into smaller parts.  \n",
    "\n",
    "By the end of this lab, you will learn to:\n",
    "- Define and call functions\n",
    "- Pass parameters to functions\n",
    "- Return values from functions\n",
    "- Write functions for mathematical sequences\n",
    "- Generate prime numbers using functions\n",
    "\n",
    "This lab is designed to be completed in **2 hours**. Please read the instructions carefully and attempt all exercises."
   ]
  },
  {
   "cell_type": "markdown",
   "id": "55eb3a12",
   "metadata": {
    "nbgrader": {
     "grade": false,
     "grade_id": "cell-3d14881206d471b9",
     "locked": true,
     "schema_version": 3,
     "solution": false,
     "task": false
    }
   },
   "source": [
    "## Instructions\n",
    "\n",
    "1. Each coding problem must be solved inside the provided code cells.\n",
    "2. Do not change the function names provided.\n",
    "3. Do not add or remove arguments from the given function signatures.\n",
    "4. Run all cells to check your progress.\n",
    "5. Your code will be **autograded**, so follow the instructions strictly."
   ]
  },
  {
   "cell_type": "markdown",
   "id": "e6ae39f3",
   "metadata": {
    "nbgrader": {
     "grade": false,
     "grade_id": "cell-3f173da41a9f0327",
     "locked": true,
     "schema_version": 3,
     "solution": false,
     "task": false
    }
   },
   "source": [
    "## Problem 1: Basic Function Definition (10 marks)\n",
    "\n",
    "Write a function called `greet` that takes a string argument `name` and returns a greeting message in the form:\n",
    "\n",
    "```\n",
    "Hello, <name>!\n",
    "```\n",
    "\n",
    "### Example\n",
    "```python\n",
    "greet(\"Alice\") → \"Hello, Alice!\"\n",
    "```"
   ]
  },
  {
   "cell_type": "code",
   "execution_count": null,
   "id": "3a2d502b",
   "metadata": {},
   "outputs": [],
   "source": [
    "def greet():\n",
    "    pass"
   ]
  },
  {
   "cell_type": "code",
   "execution_count": null,
   "id": "c31096b4",
   "metadata": {
    "nbgrader": {
     "grade": true,
     "grade_id": "cell-7bb232a3e9809c4c",
     "locked": true,
     "points": 10,
     "schema_version": 3,
     "solution": false,
     "task": false
    }
   },
   "outputs": [],
   "source": [
    "### BEGIN HIDDEN TESTS\n",
    "assert greet(\"Alice\") == \"Hello, Alice!\"\n",
    "assert greet(\"Bob\") == \"Hello, Bob!\"\n",
    "### END HIDDEN TESTS"
   ]
  },
  {
   "cell_type": "markdown",
   "id": "d723b67d",
   "metadata": {
    "nbgrader": {
     "grade": false,
     "grade_id": "cell-e792cba94da6ad76",
     "locked": true,
     "schema_version": 3,
     "solution": false,
     "task": false
    }
   },
   "source": [
    "## Problem 2: Function with Parameters (10 marks)\n",
    "\n",
    "Write a function called `power` that takes two integers `a` and `b`, and returns `a` raised to the power `b`.\n",
    "\n",
    "### Example\n",
    "```python\n",
    "power(2, 3) → 8\n",
    "power(5, 0) → 1\n",
    "```"
   ]
  },
  {
   "cell_type": "code",
   "execution_count": null,
   "id": "969d5347",
   "metadata": {},
   "outputs": [],
   "source": [
    "def power():\n",
    "    pass"
   ]
  },
  {
   "cell_type": "code",
   "execution_count": null,
   "id": "96e5f590",
   "metadata": {
    "nbgrader": {
     "grade": true,
     "grade_id": "cell-1ea57b390bf25845",
     "locked": true,
     "points": 10,
     "schema_version": 3,
     "solution": false,
     "task": false
    }
   },
   "outputs": [],
   "source": [
    "### BEGIN HIDDEN TESTS\n",
    "assert power(2, 3) == 8\n",
    "assert power(5, 0) == 1\n",
    "assert power(3, 4) == 81\n",
    "### END HIDDEN TESTS"
   ]
  },
  {
   "cell_type": "markdown",
   "id": "7e1e7f5e",
   "metadata": {
    "nbgrader": {
     "grade": false,
     "grade_id": "cell-f56834a27a80dd65",
     "locked": true,
     "schema_version": 3,
     "solution": false,
     "task": false
    }
   },
   "source": [
    "## Problem 3: Factorial Function (10 marks)\n",
    "\n",
    "Write a function `factorial` that takes a non-negative integer `n` and returns the factorial of `n`.\n",
    "\n",
    "**Recall:**  \n",
    "n! = n × (n-1) × (n-2) × ... × 1\n",
    "and `0! = 1`.\n",
    "\n",
    "### Example\n",
    "```python\n",
    "factorial(5) → 120\n",
    "```"
   ]
  },
  {
   "cell_type": "code",
   "execution_count": null,
   "id": "917d9d76",
   "metadata": {},
   "outputs": [],
   "source": [
    "def factorial():\n",
    "    pass"
   ]
  },
  {
   "cell_type": "code",
   "execution_count": null,
   "id": "680e7d5d",
   "metadata": {
    "nbgrader": {
     "grade": true,
     "grade_id": "cell-ff7e643424cc6635",
     "locked": true,
     "points": 10,
     "schema_version": 3,
     "solution": false,
     "task": false
    }
   },
   "outputs": [],
   "source": [
    "### BEGIN HIDDEN TESTS\n",
    "assert factorial(0) == 1\n",
    "assert factorial(1) == 1\n",
    "assert factorial(5) == 120\n",
    "assert factorial(6) == 720\n",
    "### END HIDDEN TESTS"
   ]
  },
  {
   "cell_type": "markdown",
   "id": "09c2976f",
   "metadata": {
    "nbgrader": {
     "grade": false,
     "grade_id": "cell-714b3f663610bdc7",
     "locked": true,
     "schema_version": 3,
     "solution": false,
     "task": false
    }
   },
   "source": [
    "## Problem 4: Fibonacci Sequence (10 marks)\n",
    "\n",
    "Write a function `fibonacci` that takes an integer `n` and returns the `n`-th Fibonacci number.\n",
    "\n",
    "**Recall:**  \n",
    "The Fibonacci sequence is defined as:\n",
    "F(0) = 0, F(1) = 1\n",
    "F(n) = F(n-1) + F(n-2) for n ≥ 2\n",
    "\n",
    "### Example\n",
    "```python\n",
    "fibonacci(0) → 0\n",
    "fibonacci(1) → 1\n",
    "fibonacci(6) → 8\n",
    "```"
   ]
  },
  {
   "cell_type": "code",
   "execution_count": null,
   "id": "a4923ff4",
   "metadata": {},
   "outputs": [],
   "source": [
    "def fibonacci():\n",
    "    pass"
   ]
  },
  {
   "cell_type": "code",
   "execution_count": null,
   "id": "529d6ccd",
   "metadata": {
    "nbgrader": {
     "grade": true,
     "grade_id": "cell-0cc30c2a0d4193a5",
     "locked": true,
     "points": 10,
     "schema_version": 3,
     "solution": false,
     "task": false
    }
   },
   "outputs": [],
   "source": [
    "### BEGIN HIDDEN TESTS\n",
    "assert fibonacci(0) == 0\n",
    "assert fibonacci(1) == 1\n",
    "assert fibonacci(6) == 8\n",
    "assert fibonacci(10) == 55\n",
    "### END HIDDEN TESTS"
   ]
  },
  {
   "cell_type": "markdown",
   "id": "b696380d",
   "metadata": {
    "nbgrader": {
     "grade": false,
     "grade_id": "cell-6aceddae4ecb54fa",
     "locked": true,
     "schema_version": 3,
     "solution": false,
     "task": false
    }
   },
   "source": [
    "## Problem 5: Prime Number Check (10 marks)\n",
    "\n",
    "Write a function `is_prime` that takes an integer `n` and returns `True` if `n` is a prime number, and `False` otherwise.\n",
    "\n",
    "**Recall:**  \n",
    "A prime number is a natural number greater than 1 that is not divisible by any number other than 1 and itself.\n",
    "\n",
    "### Example\n",
    "```python\n",
    "is_prime(7) → True\n",
    "is_prime(10) → False\n",
    "```"
   ]
  },
  {
   "cell_type": "code",
   "execution_count": null,
   "id": "edac7f8b",
   "metadata": {},
   "outputs": [],
   "source": [
    "def is_prime():\n",
    "    pass"
   ]
  },
  {
   "cell_type": "code",
   "execution_count": null,
   "id": "75011948",
   "metadata": {
    "nbgrader": {
     "grade": true,
     "grade_id": "cell-735e035bfb0176cb",
     "locked": true,
     "points": 10,
     "schema_version": 3,
     "solution": false,
     "task": false
    }
   },
   "outputs": [],
   "source": [
    "### BEGIN HIDDEN TESTS\n",
    "assert is_prime(2) == True\n",
    "assert is_prime(3) == True\n",
    "assert is_prime(4) == False\n",
    "assert is_prime(29) == True\n",
    "### END HIDDEN TESTS"
   ]
  },
  {
   "cell_type": "markdown",
   "id": "22233dcf",
   "metadata": {
    "nbgrader": {
     "grade": false,
     "grade_id": "cell-ff067a76634c8cf2",
     "locked": true,
     "schema_version": 3,
     "solution": false,
     "task": false
    }
   },
   "source": [
    "## Problem 6: Generate Prime Numbers (10 marks)\n",
    "\n",
    "Write a function `generate_primes` that takes an integer `n` and returns a list of the first `n` prime numbers.\n",
    "\n",
    "### Example\n",
    "```python\n",
    "generate_primes(5) → [2, 3, 5, 7, 11]\n",
    "```"
   ]
  },
  {
   "cell_type": "code",
   "execution_count": null,
   "id": "a79790ec",
   "metadata": {},
   "outputs": [],
   "source": [
    "def generate_primes():\n",
    "    pass"
   ]
  },
  {
   "cell_type": "code",
   "execution_count": null,
   "id": "dcf305cb",
   "metadata": {
    "nbgrader": {
     "grade": true,
     "grade_id": "cell-2e27ec292006d68e",
     "locked": true,
     "points": 10,
     "schema_version": 3,
     "solution": false,
     "task": false
    }
   },
   "outputs": [],
   "source": [
    "### BEGIN HIDDEN TESTS\n",
    "assert generate_primes(1) == [2]\n",
    "assert generate_primes(3) == [2, 3, 5]\n",
    "assert generate_primes(5) == [2, 3, 5, 7, 11]\n",
    "assert generate_primes(7) == [2, 3, 5, 7, 11, 13, 17]\n",
    "### END HIDDEN TESTS"
   ]
  }
 ],
 "metadata": {
  "kernelspec": {
   "display_name": "Python 3 (ipykernel)",
   "language": "python",
   "name": "python3"
  },
  "language_info": {
   "codemirror_mode": {
    "name": "ipython",
    "version": 3
   },
   "file_extension": ".py",
   "mimetype": "text/x-python",
   "name": "python",
   "nbconvert_exporter": "python",
   "pygments_lexer": "ipython3",
   "version": "3.13.7"
  }
 },
 "nbformat": 4,
 "nbformat_minor": 5
}
