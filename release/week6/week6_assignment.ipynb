{
 "cells": [
  {
   "cell_type": "markdown",
   "id": "319b3d62",
   "metadata": {
    "deletable": false,
    "editable": false,
    "nbgrader": {
     "cell_type": "markdown",
     "checksum": "e523c6833d08699ad4a19fa4cfb1dac6",
     "grade": false,
     "grade_id": "cell-d57533962568cdb3",
     "locked": true,
     "schema_version": 3,
     "solution": false,
     "task": false
    }
   },
   "source": [
    "# Week 6: Strings and File I/O\n",
    "\n",
    "## Introduction\n",
    "\n",
    "In this assignment, you will practice working with **strings** and performing **file input/output (I/O)** operations in Python.  \n",
    "\n",
    "By the end of this lab, you will learn to:\n",
    "- Process and manipulate strings\n",
    "- Count characters such as vowels\n",
    "- Reverse strings\n",
    "- Read from text files\n",
    "- Compute word frequencies\n",
    "- Write output to a file\n",
    "\n",
    "## Instructions\n",
    "\n",
    "1. Each coding problem must be solved inside the provided code cells.\n",
    "2. Do not change the function names provided.\n",
    "3. Do not add or remove arguments from the given function signatures.\n",
    "4. Run all cells to check your progress.\n",
    "5. Your code will be **autograded**, so follow the instructions strictly."
   ]
  },
  {
   "cell_type": "markdown",
   "id": "bf1fbc6d",
   "metadata": {
    "deletable": false,
    "editable": false,
    "nbgrader": {
     "cell_type": "markdown",
     "checksum": "ba33ae0e212586d3bb22d853200c73b8",
     "grade": false,
     "grade_id": "cell-d79e6756db62583c",
     "locked": true,
     "schema_version": 3,
     "solution": false,
     "task": false
    }
   },
   "source": [
    "## Problem 1: Count Vowels in a String (5 Marks)\n",
    "\n",
    "Write a function `count_vowels` that takes a string `s` and returns the number of vowels (`a, e, i, o, u`) in it. The function should be case-insensitive.\n",
    "\n",
    "### Example\n",
    "```python\n",
    "count_vowels(\"Mathematics\") → 4\n",
    "```"
   ]
  },
  {
   "cell_type": "code",
   "execution_count": null,
   "id": "36e13195",
   "metadata": {},
   "outputs": [],
   "source": [
    "def count_vowels(s: str) -> int:\n",
    "    \"\"\"\n",
    "    Returns the number of vowels in the given string (case-insensitive).\n",
    "    \"\"\"\n",
    "    # YOUR CODE HERE"
   ]
  },
  {
   "cell_type": "code",
   "execution_count": null,
   "id": "67c3976a",
   "metadata": {
    "deletable": false,
    "editable": false,
    "nbgrader": {
     "cell_type": "code",
     "checksum": "74e5e9a66ac6ea64faf17a1d8056a6f8",
     "grade": true,
     "grade_id": "cell-f1d5d3f2bfe1dd12",
     "locked": true,
     "points": 5,
     "schema_version": 3,
     "solution": false,
     "task": false
    }
   },
   "outputs": [],
   "source": []
  },
  {
   "cell_type": "markdown",
   "id": "b116f8da",
   "metadata": {
    "deletable": false,
    "editable": false,
    "nbgrader": {
     "cell_type": "markdown",
     "checksum": "29d490276598d9b267117e771515e97b",
     "grade": false,
     "grade_id": "cell-6465be8f5ae6b769",
     "locked": true,
     "schema_version": 3,
     "solution": false,
     "task": false
    }
   },
   "source": [
    "## Problem 2: Reverse a String (5 Marks)\n",
    "\n",
    "Write a function `reverse_string` that takes a string `s` and returns its reverse.\n",
    "\n",
    "### Example\n",
    "```python\n",
    "reverse_string(\"Python\") → \"nohtyP\"\n",
    "```"
   ]
  },
  {
   "cell_type": "code",
   "execution_count": null,
   "id": "82d28d07",
   "metadata": {},
   "outputs": [],
   "source": [
    "def reverse_string(s: str) -> str:\n",
    "    \"\"\"\n",
    "    Returns the reverse of the given string.\n",
    "    \"\"\"\n",
    "    # YOUR CODE HERE"
   ]
  },
  {
   "cell_type": "code",
   "execution_count": null,
   "id": "404450c2",
   "metadata": {
    "deletable": false,
    "editable": false,
    "nbgrader": {
     "cell_type": "code",
     "checksum": "ab6cba13fca976fe00e49fe7d8b59992",
     "grade": true,
     "grade_id": "cell-55aa3b12124949d1",
     "locked": true,
     "points": 5,
     "schema_version": 3,
     "solution": false,
     "task": false
    }
   },
   "outputs": [],
   "source": []
  },
  {
   "cell_type": "markdown",
   "id": "cad2c427",
   "metadata": {
    "deletable": false,
    "editable": false,
    "nbgrader": {
     "cell_type": "markdown",
     "checksum": "7ee6fbbc1dee444d3967e4a32fd69ed3",
     "grade": false,
     "grade_id": "cell-ec5fc9093ef1b30e",
     "locked": true,
     "schema_version": 3,
     "solution": false,
     "task": false
    }
   },
   "source": [
    "## Problem 3: Read File Content (5 Marks)\n",
    "\n",
    "Write a function `read_file` that takes a filename (string) as input and returns the entire content of the file as a string.  \n",
    "\n",
    "You may assume the file exists and is in the same directory.\n",
    "\n",
    "**Note:** Do not hardcode file names. Use the function argument.\n",
    "\n",
    "### Example\n",
    "Suppose `sample.txt` contains:\n",
    "\n",
    "```\n",
    "Hello World\n",
    "Python is fun\n",
    "```\n",
    "\n",
    "```python\n",
    "read_file(\"sample.txt\") → \"Hello World\\nPython is fun\\n\"\n",
    "```"
   ]
  },
  {
   "cell_type": "code",
   "execution_count": null,
   "id": "08fa8793",
   "metadata": {},
   "outputs": [],
   "source": [
    "def read_file(filename: str) -> str:\n",
    "    \"\"\"\n",
    "    Reads the entire content of the given file and returns it as a string.\n",
    "    \"\"\"\n",
    "    # YOUR CODE HERE"
   ]
  },
  {
   "cell_type": "code",
   "execution_count": null,
   "id": "a78ccc06",
   "metadata": {
    "deletable": false,
    "editable": false,
    "nbgrader": {
     "cell_type": "code",
     "checksum": "c4ab11c264adcf2c892ea8e583989f5a",
     "grade": true,
     "grade_id": "cell-ffdeb20f0735ff3f",
     "locked": true,
     "points": 5,
     "schema_version": 3,
     "solution": false,
     "task": false
    }
   },
   "outputs": [],
   "source": []
  },
  {
   "cell_type": "markdown",
   "id": "45a69604",
   "metadata": {
    "deletable": false,
    "editable": false,
    "nbgrader": {
     "cell_type": "markdown",
     "checksum": "659c17fd3d95d92a68a57eb34f9da21b",
     "grade": false,
     "grade_id": "cell-31e7bf2ad0be0cff",
     "locked": true,
     "schema_version": 3,
     "solution": false,
     "task": false
    }
   },
   "source": [
    "## Problem 4: Word Frequency Counter (5 Marks)\n",
    "\n",
    "Write a function `word_frequencies` that takes a string `text` and returns a dictionary where the keys are words and the values are their frequencies.  \n",
    "\n",
    "- Treat words case-insensitively (e.g., \"Python\" and \"python\" are the same).  \n",
    "- Ignore punctuation such as `. , ! ?`.  \n",
    "\n",
    "### Example\n",
    "```python\n",
    "word_frequencies(\"Python is fun. Python is powerful!\") \n",
    "→ {\"python\": 2, \"is\": 2, \"fun\": 1, \"powerful\": 1}\n",
    "```"
   ]
  },
  {
   "cell_type": "code",
   "execution_count": null,
   "id": "76cfc349",
   "metadata": {},
   "outputs": [],
   "source": [
    "import string\n",
    "\n",
    "def word_frequencies(text: str) -> dict:\n",
    "    \"\"\"\n",
    "    Returns a dictionary with word frequencies (case-insensitive, punctuation ignored).\n",
    "    \"\"\"\n",
    "    # YOUR CODE HERE"
   ]
  },
  {
   "cell_type": "code",
   "execution_count": null,
   "id": "0507fb8d",
   "metadata": {
    "deletable": false,
    "editable": false,
    "nbgrader": {
     "cell_type": "code",
     "checksum": "6e7ca3355925869642412f5b3de27584",
     "grade": true,
     "grade_id": "cell-5308707255f487b2",
     "locked": true,
     "points": 5,
     "schema_version": 3,
     "solution": false,
     "task": false
    }
   },
   "outputs": [],
   "source": []
  },
  {
   "cell_type": "markdown",
   "id": "e8b3ef17",
   "metadata": {
    "deletable": false,
    "editable": false,
    "nbgrader": {
     "cell_type": "markdown",
     "checksum": "c548e2e520c27149e2b500a248a9ff11",
     "grade": false,
     "grade_id": "cell-93fd580bf2572a31",
     "locked": true,
     "schema_version": 3,
     "solution": false,
     "task": false
    }
   },
   "source": [
    "## Problem 5: Write Output to File (5 Marks)\n",
    "\n",
    "Write a function `write_output` that takes two arguments:\n",
    "- `filename` (string): the name of the file to write into.\n",
    "- `data` (string): the content to write.\n",
    "\n",
    "The function should create/overwrite the file and write the given data into it.\n",
    "\n",
    "### Example\n",
    "```python\n",
    "write_output(\"output.txt\", \"Hello, World!\")\n",
    "```\n",
    "\n",
    "After execution, `output.txt` should contain:\n",
    "\n",
    "```\n",
    "Hello, World!\n",
    "```"
   ]
  },
  {
   "cell_type": "code",
   "execution_count": null,
   "id": "18821877",
   "metadata": {},
   "outputs": [],
   "source": [
    "def write_output(filename: str, data: str) -> None:\n",
    "    \"\"\"\n",
    "    Writes the given data to the specified file.\n",
    "    \"\"\"\n",
    "    # YOUR CODE HERE"
   ]
  },
  {
   "cell_type": "code",
   "execution_count": null,
   "id": "5385a887",
   "metadata": {
    "deletable": false,
    "editable": false,
    "nbgrader": {
     "cell_type": "code",
     "checksum": "768de5b3e9c3b442cb8fb3b5c04815b6",
     "grade": true,
     "grade_id": "cell-81d0cdb4a5bf7d11",
     "locked": true,
     "points": 5,
     "schema_version": 3,
     "solution": false,
     "task": false
    }
   },
   "outputs": [],
   "source": []
  },
  {
   "cell_type": "markdown",
   "id": "77123c7c",
   "metadata": {
    "deletable": false,
    "editable": false,
    "nbgrader": {
     "cell_type": "markdown",
     "checksum": "4d0cb30c78012d29927e2e7e4a635706",
     "grade": false,
     "grade_id": "cell-3aeaf2daa010bb2e",
     "locked": true,
     "schema_version": 3,
     "solution": false,
     "task": false
    }
   },
   "source": [
    "## Problem 6: File Word Frequency (5 Marks)\n",
    "\n",
    "Now combine your previous work.\n",
    "\n",
    "Write a function `file_word_frequency` that:\n",
    "1. Reads the content of a file (using `read_file`).\n",
    "2. Computes word frequencies (using `word_frequencies`).\n",
    "3. Returns the frequency dictionary.\n",
    "\n",
    "### Example\n",
    "Suppose `data.txt` contains:\n",
    "\n",
    "```\n",
    "Hello world\n",
    "Hello Python\n",
    "```\n",
    "\n",
    "```python \n",
    "file_word_frequency(\"data.txt\") → {\"hello\": 2, \"world\": 1, \"python\": 1}\n",
    "```"
   ]
  },
  {
   "cell_type": "code",
   "execution_count": null,
   "id": "051278a8",
   "metadata": {},
   "outputs": [],
   "source": [
    "def file_word_frequency(filename: str) -> dict:\n",
    "    \"\"\"\n",
    "    Reads a file and returns word frequencies.\n",
    "    \"\"\""
   ]
  },
  {
   "cell_type": "code",
   "execution_count": null,
   "id": "1d690139",
   "metadata": {
    "deletable": false,
    "editable": false,
    "nbgrader": {
     "cell_type": "code",
     "checksum": "989208a5a7fc579351324f70b650297f",
     "grade": true,
     "grade_id": "cell-80240c537eb80cdb",
     "locked": true,
     "points": 5,
     "schema_version": 3,
     "solution": false,
     "task": false
    }
   },
   "outputs": [],
   "source": []
  }
 ],
 "metadata": {
  "kernelspec": {
   "display_name": "Python 3 (ipykernel)",
   "language": "python",
   "name": "python3"
  },
  "language_info": {
   "codemirror_mode": {
    "name": "ipython",
    "version": 3
   },
   "file_extension": ".py",
   "mimetype": "text/x-python",
   "name": "python",
   "nbconvert_exporter": "python",
   "pygments_lexer": "ipython3",
   "version": "3.13.7"
  }
 },
 "nbformat": 4,
 "nbformat_minor": 5
}
