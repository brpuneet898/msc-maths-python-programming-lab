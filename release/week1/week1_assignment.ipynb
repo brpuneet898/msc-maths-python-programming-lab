{
 "cells": [
  {
   "cell_type": "markdown",
   "id": "453c0978",
   "metadata": {
    "deletable": false,
    "editable": false,
    "nbgrader": {
     "cell_type": "markdown",
     "checksum": "e243823b6d6bf164b480cbff2f0f1f97",
     "grade": false,
     "grade_id": "cell-08b1149477bb9c5f",
     "locked": true,
     "schema_version": 3,
     "solution": false,
     "task": false
    }
   },
   "source": [
    "# Week 1 Assignment: Python Installation and First Steps\n",
    "\n",
    "## Maximum Marks - 25 points\n",
    "## Duration - 1 hour\n",
    "\n",
    "Welcome to your first programming assignment in Python.\n",
    "\n",
    "This notebook will guide you through some basic steps:  \n",
    "- Checking your Python installation  \n",
    "- Writing and running your first program  \n",
    "- Using Jupyter notebooks effectively  \n",
    "- Exploring the built-in `help()` function  \n",
    "\n",
    "Each problem below has instructions in **markdown** and space for you to write your **Python code**.  \n",
    "Make sure you follow the instructions carefully.  "
   ]
  },
  {
   "cell_type": "markdown",
   "id": "46bf4b57",
   "metadata": {
    "deletable": false,
    "editable": false,
    "nbgrader": {
     "cell_type": "markdown",
     "checksum": "fdd764f914eac097b10d42212f5af76c",
     "grade": false,
     "grade_id": "cell-905f0bd249ad2561",
     "locked": true,
     "schema_version": 3,
     "solution": false,
     "task": false
    }
   },
   "source": [
    "## Problem 1: Check Python Version (5 points)\n",
    "\n",
    "Before we start coding, let's make sure Python is installed correctly.  \n",
    "\n",
    "**Task:**  \n",
    "Write code to print the version of Python that is currently running.  \n",
    "Hint: You can use the `sys` module."
   ]
  },
  {
   "cell_type": "code",
   "execution_count": null,
   "id": "47983c06",
   "metadata": {},
   "outputs": [],
   "source": [
    "# Problem 1\n",
    "\n",
    "import sys\n",
    "\n",
    "# YOUR CODE HERE\n",
    "print(sys.version)  ## Already written, just run this cell."
   ]
  },
  {
   "cell_type": "code",
   "execution_count": null,
   "id": "d49eb880",
   "metadata": {
    "deletable": false,
    "editable": false,
    "nbgrader": {
     "cell_type": "code",
     "checksum": "ab24d624efad5d911845e1592637cca0",
     "grade": true,
     "grade_id": "cell-9bb6a273b213ff89",
     "locked": true,
     "points": 5,
     "schema_version": 3,
     "solution": false,
     "task": false
    }
   },
   "outputs": [],
   "source": []
  },
  {
   "cell_type": "markdown",
   "id": "d99dd0e0",
   "metadata": {
    "deletable": false,
    "editable": false,
    "nbgrader": {
     "cell_type": "markdown",
     "checksum": "23bd9683500a5a6e0847a3822432092b",
     "grade": false,
     "grade_id": "cell-7253a1aab3a3acbb",
     "locked": true,
     "schema_version": 3,
     "solution": false,
     "task": false
    }
   },
   "source": [
    "## Problem 2: Write Your First Program (10 points)\n",
    "\n",
    "Let’s write your very first Python program.  \n",
    "\n",
    "**Task:**  \n",
    "Write a function called `greet()` that returns the string:  \n",
    "\n",
    "```text\n",
    "Hello, MSc Mathematics Students!\n",
    "```\n",
    "\n",
    "*Do not print inside the function, just return the string.*  "
   ]
  },
  {
   "cell_type": "code",
   "execution_count": null,
   "id": "d32e8937",
   "metadata": {},
   "outputs": [],
   "source": [
    "# Problem 2\n",
    "\n",
    "def greet():\n",
    "    # YOUR CODE HERE\n",
    "    return \"<put your string here>\"  # Replace with the correct string"
   ]
  },
  {
   "cell_type": "code",
   "execution_count": null,
   "id": "9d074126",
   "metadata": {
    "deletable": false,
    "editable": false,
    "nbgrader": {
     "cell_type": "code",
     "checksum": "dee933977ef3a65070d02ec5abd32f85",
     "grade": true,
     "grade_id": "cell-dd7e347cf3bd1f50",
     "locked": true,
     "points": 10,
     "schema_version": 3,
     "solution": false,
     "task": false
    }
   },
   "outputs": [],
   "source": [
    "# DO NOT EDIT THIS CELL\n",
    "# TEST CASE for Problem 2\n",
    "assert greet() == \"Hello, MSc Mathematics Students!\""
   ]
  },
  {
   "cell_type": "markdown",
   "id": "ac28adc1",
   "metadata": {
    "deletable": false,
    "editable": false,
    "nbgrader": {
     "cell_type": "markdown",
     "checksum": "1c44edc6cc896bb19c9cc9dd0f0cb350",
     "grade": false,
     "grade_id": "cell-034157c69be94a49",
     "locked": true,
     "schema_version": 3,
     "solution": false,
     "task": false
    }
   },
   "source": [
    "## Problem 3: Print a Custom Greeting (10 points)\n",
    "\n",
    "Functions often take input from the user.  \n",
    "\n",
    "**Task:**  \n",
    "Write a function called `personal_greet(name)` that takes a string `name`  \n",
    "and returns `\"Hello, <name>!\"`  \n",
    "\n",
    "Example:  \n",
    "- `personal_greet(\"Alice\")` → `\"Hello, Alice!\"`"
   ]
  },
  {
   "cell_type": "code",
   "execution_count": null,
   "id": "17f8453c",
   "metadata": {},
   "outputs": [],
   "source": [
    "# Problem 3\n",
    "\n",
    "def personal_greet(name):\n",
    "    # YOUR CODE HERE\n",
    "    return f\"<put the correct string here>, {name}!\" # Replace with the correct string"
   ]
  },
  {
   "cell_type": "code",
   "execution_count": null,
   "id": "a41f2460",
   "metadata": {
    "deletable": false,
    "editable": false,
    "nbgrader": {
     "cell_type": "code",
     "checksum": "4e84fdfc1de655d1148e9363b50497f5",
     "grade": true,
     "grade_id": "cell-abffe08c70dc4a5f",
     "locked": true,
     "points": 10,
     "schema_version": 3,
     "solution": false,
     "task": false
    }
   },
   "outputs": [],
   "source": [
    "# DO NOT EDIT THIS CELL. \n",
    "# TEST CASE for Problem 3\n",
    "assert personal_greet(\"Alice\") == \"Hello, Alice!\"\n",
    "assert personal_greet(\"Bob\") == \"Hello, Bob!\""
   ]
  },
  {
   "cell_type": "markdown",
   "id": "34e66e9a",
   "metadata": {
    "deletable": false,
    "editable": false,
    "nbgrader": {
     "cell_type": "markdown",
     "checksum": "1d8c3034ae2cf38dc4ae70c42d7f8b37",
     "grade": false,
     "grade_id": "cell-0294e221cc552b62",
     "locked": true,
     "schema_version": 3,
     "solution": false,
     "task": false
    }
   },
   "source": [
    "## Tutorial: Understanding `help()` Command\n",
    "\n",
    "Python has a built-in `help()` function that lets you explore documentation. \n",
    "\n",
    "For usage, just call the `help()` function in new cell below, you will be prompted to enter the module name. Write any module name of your choice like `Math` or `numpy`. If you want to explore what are the modules present, write `modules`. Explore the `help()` function below and use it in day-to-day practice to understand the concepts better with the help of official Python documentation. \n",
    "\n",
    "*Note - This is not graded.*"
   ]
  }
 ],
 "metadata": {
  "kernelspec": {
   "display_name": "Python 3 (ipykernel)",
   "language": "python",
   "name": "python3"
  },
  "language_info": {
   "codemirror_mode": {
    "name": "ipython",
    "version": 3
   },
   "file_extension": ".py",
   "mimetype": "text/x-python",
   "name": "python",
   "nbconvert_exporter": "python",
   "pygments_lexer": "ipython3",
   "version": "3.13.7"
  }
 },
 "nbformat": 4,
 "nbformat_minor": 5
}
