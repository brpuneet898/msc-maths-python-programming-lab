{
 "cells": [
  {
   "cell_type": "markdown",
   "id": "5dc68c1f",
   "metadata": {
    "deletable": false,
    "editable": false,
    "nbgrader": {
     "cell_type": "markdown",
     "checksum": "4c7992bcf80a6655e1b38753e966b7ff",
     "grade": false,
     "grade_id": "cell-75a1a2dca1c8476c",
     "locked": true,
     "schema_version": 3,
     "solution": false,
     "task": false
    }
   },
   "source": [
    "# Week 4: Loops and Iterations\n",
    "\n",
    "Welcome to Week 4 of the Python Programming Lab for MSc Mathematics students.  \n",
    "This week we will focus on **loops and iterations**, which are fundamental concepts in programming.\n",
    "\n",
    "---\n",
    "\n",
    "## Learning Objectives\n",
    "\n",
    "By the end of this lab, you will be able to:\n",
    "- Understand and implement **for loops** and **while loops**.\n",
    "- Write programs to compute **factorials** and **Fibonacci numbers**.\n",
    "- Use loops to compute sums of series.\n",
    "- Gain confidence in writing iterative code for mathematical problems."
   ]
  },
  {
   "cell_type": "markdown",
   "id": "6afe28fe",
   "metadata": {
    "deletable": false,
    "editable": false,
    "nbgrader": {
     "cell_type": "markdown",
     "checksum": "f74273055e37c8866f853ab242fe0023",
     "grade": false,
     "grade_id": "cell-408e3d58c9e377c0",
     "locked": true,
     "schema_version": 3,
     "solution": false,
     "task": false
    }
   },
   "source": [
    "## 1. Introduction to Loops\n",
    "\n",
    "In programming, loops allow us to repeat a block of code multiple times.  \n",
    "There are mainly two types of loops in Python:\n",
    "\n",
    "1. **for loop** – Iterates over a sequence (like a list, range, or string).\n",
    "2. **while loop** – Repeats until a condition becomes False.\n",
    "\n",
    "Example of a `for` loop:\n",
    "\n",
    "```python\n",
    "for i in range(5):\n",
    "    print(i)\n",
    "```\n",
    "\n",
    "Example of a `while` loop:\n",
    "\n",
    "```python\n",
    "count = 0\n",
    "while count < 5:\n",
    "    print(count)\n",
    "    count += 1\n",
    "```"
   ]
  },
  {
   "cell_type": "markdown",
   "id": "bf7ca605",
   "metadata": {
    "deletable": false,
    "editable": false,
    "nbgrader": {
     "cell_type": "markdown",
     "checksum": "baf1c58f68de55914ee421900f991a02",
     "grade": false,
     "grade_id": "cell-b88236d67bb9ed2e",
     "locked": true,
     "schema_version": 3,
     "solution": false,
     "task": false
    }
   },
   "source": [
    "## 2. Assignment Problems\n",
    "You will now solve a series of problems using loops.  \n",
    "Please carefully read the problem statements and write your solutions in the provided code cells."
   ]
  },
  {
   "cell_type": "markdown",
   "id": "1972dd8d",
   "metadata": {
    "deletable": false,
    "editable": false,
    "nbgrader": {
     "cell_type": "markdown",
     "checksum": "2c455beae0c2e9dc9519a02b54635308",
     "grade": false,
     "grade_id": "cell-1b7bb69de3c81577",
     "locked": true,
     "schema_version": 3,
     "solution": false,
     "task": false
    }
   },
   "source": [
    "### Problem 1: Print Numbers using a For Loop (5 points)\n",
    "Write a function `print_numbers(n)` that prints numbers from 1 to `n` using a **for loop**."
   ]
  },
  {
   "cell_type": "code",
   "execution_count": null,
   "id": "3e72b3c1",
   "metadata": {},
   "outputs": [],
   "source": [
    "def print_numbers(n):\n",
    "    \"\"\"\n",
    "    Print numbers from 1 to n using a for loop.\n",
    "    \"\"\"\n",
    "    # YOUR CODE HERE"
   ]
  },
  {
   "cell_type": "code",
   "execution_count": null,
   "id": "e5587c9d",
   "metadata": {
    "deletable": false,
    "editable": false,
    "nbgrader": {
     "cell_type": "code",
     "checksum": "7ffe7d7dd1f4c1f38b5a7c575dfaf926",
     "grade": true,
     "grade_id": "cell-bd073e8ea3361100",
     "locked": true,
     "points": 5,
     "schema_version": 3,
     "solution": false,
     "task": false
    }
   },
   "outputs": [],
   "source": []
  },
  {
   "cell_type": "markdown",
   "id": "4a12eb44",
   "metadata": {
    "deletable": false,
    "editable": false,
    "nbgrader": {
     "cell_type": "markdown",
     "checksum": "80f735609872d036eac1dc53c8439d31",
     "grade": false,
     "grade_id": "cell-b4ffe97894949528",
     "locked": true,
     "schema_version": 3,
     "solution": false,
     "task": false
    }
   },
   "source": [
    "### Problem 2: Print Numbers using a While Loop (5 points)\n",
    "Write a function `print_numbers_while(n)` that prints numbers from 1 to `n` using a **while loop**."
   ]
  },
  {
   "cell_type": "code",
   "execution_count": null,
   "id": "7025c958",
   "metadata": {},
   "outputs": [],
   "source": [
    "def print_numbers_while(n):\n",
    "    \"\"\"\n",
    "    Print numbers from 1 to n using a while loop.\n",
    "    \"\"\"\n",
    "    # YOUR CODE HERE"
   ]
  },
  {
   "cell_type": "code",
   "execution_count": null,
   "id": "46164469",
   "metadata": {
    "deletable": false,
    "editable": false,
    "nbgrader": {
     "cell_type": "code",
     "checksum": "54fe46cf2440fa2dd46772e3a139dd32",
     "grade": true,
     "grade_id": "cell-99dfb367f3619247",
     "locked": true,
     "points": 5,
     "schema_version": 3,
     "solution": false,
     "task": false
    }
   },
   "outputs": [],
   "source": []
  },
  {
   "cell_type": "markdown",
   "id": "b9fd8bf9",
   "metadata": {
    "deletable": false,
    "editable": false,
    "nbgrader": {
     "cell_type": "markdown",
     "checksum": "601a16195de79d77b0e7682951e40404",
     "grade": false,
     "grade_id": "cell-d61fb6a46c18a811",
     "locked": true,
     "schema_version": 3,
     "solution": false,
     "task": false
    }
   },
   "source": [
    "### Problem 3: Factorial using a Loop (10 points)\n",
    "Write a function `factorial(n)` that computes the factorial of a number `n` using a **loop**.  \n",
    "Recall that:\n",
    "\n",
    "n!=n×(n−1)×(n−2)×⋯×1\n",
    "\n",
    "Example: `factorial(5) = 120`"
   ]
  },
  {
   "cell_type": "code",
   "execution_count": null,
   "id": "76e516b0",
   "metadata": {},
   "outputs": [],
   "source": [
    "def factorial(n):\n",
    "    \"\"\"\n",
    "    Compute factorial of n using a loop.\n",
    "    \"\"\"\n",
    "    # YOUR CODE HERE"
   ]
  },
  {
   "cell_type": "code",
   "execution_count": null,
   "id": "c4917249",
   "metadata": {
    "deletable": false,
    "editable": false,
    "nbgrader": {
     "cell_type": "code",
     "checksum": "bed3dc947f5f14c8a00d118c947701ad",
     "grade": true,
     "grade_id": "cell-7ee9394e96bf8d94",
     "locked": true,
     "points": 10,
     "schema_version": 3,
     "solution": false,
     "task": false
    }
   },
   "outputs": [],
   "source": []
  },
  {
   "cell_type": "markdown",
   "id": "7d6ae2fc",
   "metadata": {
    "deletable": false,
    "editable": false,
    "nbgrader": {
     "cell_type": "markdown",
     "checksum": "430d0f91c73b222ba06b94e9d960045d",
     "grade": false,
     "grade_id": "cell-e994328cfbaebaf6",
     "locked": true,
     "schema_version": 3,
     "solution": false,
     "task": false
    }
   },
   "source": [
    "### Problem 4: Fibonacci Numbers (10 points)\n",
    "Write a function `fibonacci(n)` that returns the `n`-th Fibonacci number.  \n",
    "The Fibonacci sequence is defined as:\n",
    "\n",
    "F(0)=0, F(1)=1, F(n)=F(n−1)+F(n−2) for n≥2\n",
    "\n",
    "Example:  \n",
    "- `fibonacci(0) = 0`  \n",
    "- `fibonacci(1) = 1`  \n",
    "- `fibonacci(5) = 5`"
   ]
  },
  {
   "cell_type": "code",
   "execution_count": null,
   "id": "b5f25d36",
   "metadata": {},
   "outputs": [],
   "source": [
    "def fibonacci(n):\n",
    "    \"\"\"\n",
    "    Return the n-th Fibonacci number using a loop.\n",
    "    \"\"\"\n",
    "    # YOUR CODE HERE"
   ]
  },
  {
   "cell_type": "code",
   "execution_count": null,
   "id": "661deac1",
   "metadata": {
    "deletable": false,
    "editable": false,
    "nbgrader": {
     "cell_type": "code",
     "checksum": "0a4c665f4905f4a3c7bf2dd87a87edc6",
     "grade": true,
     "grade_id": "cell-7f664a2290effc42",
     "locked": true,
     "points": 10,
     "schema_version": 3,
     "solution": false,
     "task": false
    }
   },
   "outputs": [],
   "source": []
  },
  {
   "cell_type": "markdown",
   "id": "cdede0b8",
   "metadata": {
    "deletable": false,
    "editable": false,
    "nbgrader": {
     "cell_type": "markdown",
     "checksum": "df4daf97a133fd4f232e8ff01cce962a",
     "grade": false,
     "grade_id": "cell-a054b4326cf89ffa",
     "locked": true,
     "schema_version": 3,
     "solution": false,
     "task": false
    }
   },
   "source": [
    "### Problem 5: Sum of Natural Numbers (10 points)\n",
    "Write a function `sum_natural(n)` that returns the sum of the first `n` natural numbers using a loop.\n",
    "\n",
    "Sum=1+2+3+⋯+n\n",
    "\n",
    "Example: `sum_natural(5) = 15`"
   ]
  },
  {
   "cell_type": "code",
   "execution_count": null,
   "id": "010bee76",
   "metadata": {},
   "outputs": [],
   "source": [
    "def sum_natural(n):\n",
    "    \"\"\"\n",
    "    Return the sum of first n natural numbers using a loop.\n",
    "    \"\"\"\n",
    "    # YOUR CODE HERE"
   ]
  },
  {
   "cell_type": "code",
   "execution_count": null,
   "id": "32d875fc",
   "metadata": {
    "deletable": false,
    "editable": false,
    "nbgrader": {
     "cell_type": "code",
     "checksum": "a9bec1d4a7c5be229e35214d4825c4da",
     "grade": true,
     "grade_id": "cell-e0215df023b90d53",
     "locked": true,
     "points": 10,
     "schema_version": 3,
     "solution": false,
     "task": false
    }
   },
   "outputs": [],
   "source": []
  },
  {
   "cell_type": "markdown",
   "id": "e646fe25",
   "metadata": {
    "deletable": false,
    "editable": false,
    "nbgrader": {
     "cell_type": "markdown",
     "checksum": "6e8ecf22700c62922389b7c58c1a379f",
     "grade": false,
     "grade_id": "cell-b0698dc84f3db36c",
     "locked": true,
     "schema_version": 3,
     "solution": false,
     "task": false
    }
   },
   "source": [
    "### Problem 6: Sum of Series (Squares) (10 points)\n",
    "Write a function `sum_squares(n)` that returns the sum of squares of the first `n` natural numbers.\n",
    "\n",
    "Sum=1^2+2^2+3^2+⋯+n^2\n",
    "\n",
    "Example: `sum_squares(3) = 14`"
   ]
  },
  {
   "cell_type": "code",
   "execution_count": null,
   "id": "2dce210c",
   "metadata": {},
   "outputs": [],
   "source": [
    "def sum_squares(n):\n",
    "    \"\"\"\n",
    "    Return the sum of squares of first n natural numbers.\n",
    "    \"\"\"\n",
    "    # YOUR CODE HERE"
   ]
  },
  {
   "cell_type": "code",
   "execution_count": null,
   "id": "7f750a19",
   "metadata": {
    "deletable": false,
    "editable": false,
    "nbgrader": {
     "cell_type": "code",
     "checksum": "0f20c24536067f297ff24b0ec5a368cb",
     "grade": true,
     "grade_id": "cell-9e4f786dbb9ce228",
     "locked": true,
     "points": 10,
     "schema_version": 3,
     "solution": false,
     "task": false
    }
   },
   "outputs": [],
   "source": []
  }
 ],
 "metadata": {
  "kernelspec": {
   "display_name": "Python 3 (ipykernel)",
   "language": "python",
   "name": "python3"
  },
  "language_info": {
   "codemirror_mode": {
    "name": "ipython",
    "version": 3
   },
   "file_extension": ".py",
   "mimetype": "text/x-python",
   "name": "python",
   "nbconvert_exporter": "python",
   "pygments_lexer": "ipython3",
   "version": "3.13.7"
  }
 },
 "nbformat": 4,
 "nbformat_minor": 5
}
