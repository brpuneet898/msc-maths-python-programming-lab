{
 "cells": [
  {
   "cell_type": "markdown",
   "id": "ebed2693",
   "metadata": {
    "deletable": false,
    "editable": false,
    "nbgrader": {
     "cell_type": "markdown",
     "checksum": "5e99c780af8593f520519498d8404422",
     "grade": false,
     "grade_id": "cell-dd61a20956f75396",
     "locked": true,
     "schema_version": 3,
     "solution": false,
     "task": false
    }
   },
   "source": [
    "# Week 10: Content Creation and Animations using Matplotlib\n",
    "\n",
    "## Introduction\n",
    "\n",
    "In this assignment, you will learn to create **dynamic visualizations and animations** using `matplotlib.animation.FuncAnimation`.  \n",
    "This week focuses on bridging **mathematics and storytelling** through code, visual plots, and motion.\n",
    "\n",
    "By the end of this lab, you will:\n",
    "- Create animations using Matplotlib\n",
    "- Understand how frames are updated dynamically\n",
    "- Build a mini-project that visualizes a mathematical concept\n",
    "\n",
    "\n",
    "## Important Instructions\n",
    "\n",
    "- Do not change the names of the functions.\n",
    "- Each function must return the animation object or figure object as specified.\n",
    "- You are required to use `matplotlib.animation.FuncAnimation`.\n",
    "- The mini-project must be done in the final problem.\n",
    "- This is an **nbgrader autogradable assignment**, so follow the structure exactly."
   ]
  },
  {
   "cell_type": "markdown",
   "id": "92f429de",
   "metadata": {
    "deletable": false,
    "editable": false,
    "nbgrader": {
     "cell_type": "markdown",
     "checksum": "2948cfc2281c34a4c876ad6339ef644b",
     "grade": false,
     "grade_id": "cell-a37e11e3c86523a8",
     "locked": true,
     "schema_version": 3,
     "solution": false,
     "task": false
    }
   },
   "source": [
    "## 1: Moving Point Animation (5 marks)\n",
    "\n",
    "Write a function `animate_point` that:\n",
    "- Animates a point moving along the x-axis from 0 to 10\n",
    "- Uses `FuncAnimation`\n",
    "- Returns the animation object\n",
    "\n",
    "### Expected Behavior\n",
    "A point smoothly moves from left to right."
   ]
  },
  {
   "cell_type": "code",
   "execution_count": null,
   "id": "34e52728",
   "metadata": {},
   "outputs": [],
   "source": [
    "import numpy as np\n",
    "import matplotlib.pyplot as plt\n",
    "from matplotlib.animation import FuncAnimation\n",
    "\n",
    "def animate_point():\n",
    "    \"\"\"\n",
    "    Animates a point moving along the x-axis from 0 to 10.\n",
    "    Returns the animation object.\n",
    "    \"\"\""
   ]
  },
  {
   "cell_type": "code",
   "execution_count": null,
   "id": "1a1d30bb",
   "metadata": {
    "deletable": false,
    "editable": false,
    "nbgrader": {
     "cell_type": "code",
     "checksum": "52482c344d136602aecfa6d4f4865e99",
     "grade": true,
     "grade_id": "cell-2e3f7a338a7b82ca",
     "locked": true,
     "points": 5,
     "schema_version": 3,
     "solution": false,
     "task": false
    }
   },
   "outputs": [],
   "source": []
  },
  {
   "cell_type": "markdown",
   "id": "3dff7573",
   "metadata": {
    "deletable": false,
    "editable": false,
    "nbgrader": {
     "cell_type": "markdown",
     "checksum": "34d6fb109a00c9707bda6d6554db79e2",
     "grade": false,
     "grade_id": "cell-30a1e99626564af9",
     "locked": true,
     "schema_version": 3,
     "solution": false,
     "task": false
    }
   },
   "source": [
    "## 2: Oscillating Sine Wave Animation (5 marks)\n",
    "\n",
    "Write a function `animate_sine` that:\n",
    "- Animates the function y = sin(x + t), where t changes over time\n",
    "- Shows the oscillation effect clearly\n",
    "- Returns the animation object\n",
    "\n",
    "### Expected Behavior\n",
    "A moving wave demonstrating phase shift over time."
   ]
  },
  {
   "cell_type": "code",
   "execution_count": null,
   "id": "fc0cd5f7",
   "metadata": {},
   "outputs": [],
   "source": [
    "def animate_sine():"
   ]
  },
  {
   "cell_type": "code",
   "execution_count": null,
   "id": "acda849e",
   "metadata": {
    "deletable": false,
    "editable": false,
    "nbgrader": {
     "cell_type": "code",
     "checksum": "7f7ce81648f73cfb128a02ef2891f10b",
     "grade": true,
     "grade_id": "cell-8200d0571f04a641",
     "locked": true,
     "points": 5,
     "schema_version": 3,
     "solution": false,
     "task": false
    }
   },
   "outputs": [],
   "source": []
  },
  {
   "cell_type": "markdown",
   "id": "e51aa040",
   "metadata": {
    "deletable": false,
    "editable": false,
    "nbgrader": {
     "cell_type": "markdown",
     "checksum": "e2f7df564aca1ebdada963a59c4a4a76",
     "grade": false,
     "grade_id": "cell-ff1e25f0f5455dbf",
     "locked": true,
     "schema_version": 3,
     "solution": false,
     "task": false
    }
   },
   "source": [
    "## 3: Damped Oscillation Animation (5 marks)\n",
    "\n",
    "Write a function `animate_damped_oscillation` that:\n",
    "- Animates the function y = exp(-0.1 * t) * sin(x)\n",
    "- Shows the amplitude decaying over time\n",
    "- Returns the animation object\n",
    "\n",
    "### Expected Behavior\n",
    "A sine wave whose amplitude shrinks as time progresses."
   ]
  },
  {
   "cell_type": "code",
   "execution_count": null,
   "id": "c2b96789",
   "metadata": {},
   "outputs": [],
   "source": [
    "def animate_damped_oscillation():"
   ]
  },
  {
   "cell_type": "code",
   "execution_count": null,
   "id": "812be764",
   "metadata": {
    "deletable": false,
    "editable": false,
    "nbgrader": {
     "cell_type": "code",
     "checksum": "bdf7831df1544e06f4c77f02294442eb",
     "grade": true,
     "grade_id": "cell-2f3563a7d96a3edb",
     "locked": true,
     "points": 5,
     "schema_version": 3,
     "solution": false,
     "task": false
    }
   },
   "outputs": [],
   "source": []
  },
  {
   "cell_type": "markdown",
   "id": "ad3660a6",
   "metadata": {
    "deletable": false,
    "editable": false,
    "nbgrader": {
     "cell_type": "markdown",
     "checksum": "8b2a9e3c1f971bfa9c02da4273b5970d",
     "grade": false,
     "grade_id": "cell-99156e9dda6ac2b5",
     "locked": true,
     "schema_version": 3,
     "solution": false,
     "task": false
    }
   },
   "source": [
    "## 4: Mini Project – Explain a Mathematical Concept with Animation (5 marks)\n",
    "\n",
    "Create a function `mini_project_animation` that:\n",
    "- Visualizes a mathematical concept of your choice (examples: convergence of a series, movement along a parabola, complex exponential rotation, Fourier series buildup)\n",
    "- Uses plots and animation\n",
    "- The plot must include:\n",
    "  - Title of the concept\n",
    "  - Axis labels\n",
    "  - At least one dynamic (moving/animating) element\n",
    "- Returns the animation object\n",
    "\n",
    "You are free to choose the mathematical concept, but your visualization must be meaningful and clearly demonstrate an idea.\n",
    "\n",
    "### Example Ideas:\n",
    "- Animated plot showing convergence of partial sums of the harmonic series\n",
    "- Rotating vector showing Euler’s formula: e<sup>iθ</sup> = cos(θ) + i sin(θ)\n",
    "- A point sliding along a parabola y = x²"
   ]
  },
  {
   "cell_type": "code",
   "execution_count": null,
   "id": "9b4222c6",
   "metadata": {},
   "outputs": [],
   "source": [
    "def mini_project_animation():"
   ]
  },
  {
   "cell_type": "code",
   "execution_count": null,
   "id": "117f5c3b",
   "metadata": {
    "deletable": false,
    "editable": false,
    "nbgrader": {
     "cell_type": "code",
     "checksum": "eb8cdb4940d6119e88000358526ed69a",
     "grade": true,
     "grade_id": "cell-a563b9c7cd2ed80f",
     "locked": true,
     "points": 5,
     "schema_version": 3,
     "solution": false,
     "task": false
    }
   },
   "outputs": [],
   "source": []
  }
 ],
 "metadata": {
  "kernelspec": {
   "display_name": "Python 3 (ipykernel)",
   "language": "python",
   "name": "python3"
  },
  "language_info": {
   "codemirror_mode": {
    "name": "ipython",
    "version": 3
   },
   "file_extension": ".py",
   "mimetype": "text/x-python",
   "name": "python",
   "nbconvert_exporter": "python",
   "pygments_lexer": "ipython3",
   "version": "3.13.7"
  }
 },
 "nbformat": 4,
 "nbformat_minor": 5
}
