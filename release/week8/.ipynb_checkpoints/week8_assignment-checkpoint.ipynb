{
 "cells": [
  {
   "cell_type": "markdown",
   "id": "45f62e94",
   "metadata": {
    "deletable": false,
    "editable": false,
    "nbgrader": {
     "cell_type": "markdown",
     "checksum": "a8250cc3ea86503161600f300747f4a1",
     "grade": false,
     "grade_id": "cell-fe0ee33f93d61534",
     "locked": true,
     "schema_version": 3,
     "solution": false,
     "task": false
    }
   },
   "source": [
    "# Week 8: Regular Expressions and Data Structures\n",
    "\n",
    "## Learning Objectives\n",
    "\n",
    "By the end of this lab, students should be able to:\n",
    "- Use **regular expressions (`re` module)** to extract patterns from text.\n",
    "- Parse **CSV data** manually and with the `csv` module.\n",
    "- Perform simple **web scraping** using the `requests` and `re` modules.\n",
    "- Store and manipulate extracted data using **Python dictionaries**."
   ]
  },
  {
   "cell_type": "markdown",
   "id": "837ffede",
   "metadata": {
    "deletable": false,
    "editable": false,
    "nbgrader": {
     "cell_type": "markdown",
     "checksum": "c24e3e4059ae47a1cae13f0b66cbb23c",
     "grade": false,
     "grade_id": "cell-c260a35e6b70b27b",
     "locked": true,
     "schema_version": 3,
     "solution": false,
     "task": false
    }
   },
   "source": [
    "## Section 1: Introduction to Regular Expressions\n",
    "\n",
    "Python’s `re` module allows us to search and manipulate strings based on patterns.\n",
    "\n",
    "### Example\n",
    "\n",
    "```python\n",
    "import re\n",
    "\n",
    "text = \"My phone number is 98765-43210.\"\n",
    "pattern = r'\\d{5}-\\d{5}'\n",
    "match = re.search(pattern, text)\n",
    "if match:\n",
    "    print(\"Phone Number Found:\", match.group())\n",
    "```\n",
    "\n",
    "Output:\n",
    "```text\n",
    "Phone Number Found: 98765-43210\n",
    "```"
   ]
  },
  {
   "cell_type": "markdown",
   "id": "fdbc4fc9",
   "metadata": {
    "deletable": false,
    "editable": false,
    "nbgrader": {
     "cell_type": "markdown",
     "checksum": "3275b371339ea1fd00b43920d92a8a14",
     "grade": false,
     "grade_id": "cell-03f9698ea2a89624",
     "locked": true,
     "schema_version": 3,
     "solution": false,
     "task": false
    }
   },
   "source": [
    "## Task 1: Extract Email Addresses (10 marks)\n",
    "\n",
    "Write a function `extract_emails(text)` that takes a string and returns **a list of all email addresses** present in it.\n",
    "\n",
    "**Example:**\n",
    "\n",
    "```python\n",
    "text = \"Contact us at support@iitm.ac.in or admin@maths.org.\"\n",
    "print(extract_emails(text))\n",
    "```\n",
    "\n",
    "**Expected Output:**\n",
    "```text\n",
    "['support@iitm.ac.in', 'admin@maths.org']\n",
    "```"
   ]
  },
  {
   "cell_type": "code",
   "execution_count": null,
   "id": "44ab125c",
   "metadata": {},
   "outputs": [],
   "source": [
    "import re\n",
    "\n",
    "def extract_emails(text):\n",
    "    # YOUR CODE HERE\n",
    "    pattern = r'[A-Za-z0-9._%+-]+@[A-Za-z0-9.-]+\\.[A-Za-z]{2,}'\n",
    "    return re.findall(pattern, text)\n",
    "\n",
    "# Sample check\n",
    "extract_emails(\"Emails: student1@iitm.ac.in, helpdesk@maths.org\")"
   ]
  },
  {
   "cell_type": "code",
   "execution_count": null,
   "id": "d9470e31",
   "metadata": {
    "deletable": false,
    "editable": false,
    "nbgrader": {
     "cell_type": "code",
     "checksum": "974863f70abf6962dfdd1cef6edd79d7",
     "grade": true,
     "grade_id": "cell-21f0ac383093780d",
     "locked": true,
     "points": 10,
     "schema_version": 3,
     "solution": false,
     "task": false
    }
   },
   "outputs": [],
   "source": []
  },
  {
   "cell_type": "markdown",
   "id": "cfa98290",
   "metadata": {
    "deletable": false,
    "editable": false,
    "nbgrader": {
     "cell_type": "markdown",
     "checksum": "d8640c02106a814132ab52a57a9c7cc4",
     "grade": false,
     "grade_id": "cell-0780329c501ed26b",
     "locked": true,
     "schema_version": 3,
     "solution": false,
     "task": false
    }
   },
   "source": [
    "## Task 2: Extract All Numbers from Text (10 marks)\n",
    "\n",
    "Write a function `extract_numbers(text)` that returns all the numbers (integers or decimals) found in a given string.\n",
    "\n",
    "**Example:**\n",
    "\n",
    "```python\n",
    "extract_numbers(\"The values are 12, 45.6, and 789.\")\n",
    "```\n",
    "\n",
    "**Expected Output:**\n",
    "```text\n",
    "['12', '45.6', '789']\n",
    "```"
   ]
  },
  {
   "cell_type": "code",
   "execution_count": null,
   "id": "f50d7889",
   "metadata": {},
   "outputs": [],
   "source": [
    "def extract_numbers(text):\n",
    "    # YOUR CODE HERE\n",
    "    pattern = r'<Insert your regex pattern here.>'\n",
    "    return re.findall(pattern, text)\n",
    "\n",
    "# Sample check\n",
    "extract_numbers(\"The cost is 45.5 and ID is 12345\")"
   ]
  },
  {
   "cell_type": "code",
   "execution_count": null,
   "id": "ee20400b",
   "metadata": {
    "deletable": false,
    "editable": false,
    "nbgrader": {
     "cell_type": "code",
     "checksum": "a883302a3c06b2689a62ab2d90ce7d5b",
     "grade": true,
     "grade_id": "cell-dd68e7cc4efb6d77",
     "locked": true,
     "points": 10,
     "schema_version": 3,
     "solution": false,
     "task": false
    }
   },
   "outputs": [],
   "source": []
  },
  {
   "cell_type": "markdown",
   "id": "debc68e5",
   "metadata": {
    "deletable": false,
    "editable": false,
    "nbgrader": {
     "cell_type": "markdown",
     "checksum": "35dfea8f088156ea93114a59a94b3ab1",
     "grade": false,
     "grade_id": "cell-fbc3fae6f9454f63",
     "locked": true,
     "schema_version": 3,
     "solution": false,
     "task": false
    }
   },
   "source": [
    "## Section 2: Parsing CSV Data\n",
    "\n",
    "### Example: Reading a CSV String\n",
    "\n",
    "```python\n",
    "csv_data = '''Name,Marks\n",
    "Alice,90\n",
    "Bob,85\n",
    "Charlie,78\n",
    "'''\n",
    "lines = csv_data.strip().split('\\n')\n",
    "for line in lines[1:]:\n",
    "    name, marks = line.split(',')\n",
    "    print(name, \"scored\", marks)\n",
    "```\n",
    "\n",
    "Output:\n",
    "```text\n",
    "Alice scored 90\n",
    "Bob scored 85\n",
    "Charlie scored 78\n",
    "```"
   ]
  },
  {
   "cell_type": "markdown",
   "id": "d2c467d0",
   "metadata": {
    "deletable": false,
    "editable": false,
    "nbgrader": {
     "cell_type": "markdown",
     "checksum": "a48f5622464f5bc40e9227a6c3c5a537",
     "grade": false,
     "grade_id": "cell-25186dd625ae0eb5",
     "locked": true,
     "schema_version": 3,
     "solution": false,
     "task": false
    }
   },
   "source": [
    "## Task 3: Parse CSV and Return Dictionary (10 marks)\n",
    "\n",
    "Write a function `parse_csv(data)` that takes a **CSV string** and returns a **dictionary** with names as keys and marks as integer values.\n",
    "\n",
    "**Example:**\n",
    "\n",
    "```python\n",
    "csv_data = \"Name,Marks\\nAlice,90\\nBob,85\\nCharlie,78\"\n",
    "print(parse_csv(csv_data))\n",
    "```\n",
    "\n",
    "**Expected Output:**\n",
    "```text\n",
    "{'Alice': 90, 'Bob': 85, 'Charlie': 78}\n",
    "```"
   ]
  },
  {
   "cell_type": "code",
   "execution_count": null,
   "id": "1820d6aa",
   "metadata": {},
   "outputs": [],
   "source": [
    "def parse_csv(data):\n",
    "    # YOUR CODE HERE\n",
    "\n",
    "# Sample check\n",
    "# parse_csv(\"Name,Marks\\nA,1\\nB,2\") # -> Uncomment this line to check whether your function runs without error and gives expected output."
   ]
  },
  {
   "cell_type": "code",
   "execution_count": null,
   "id": "d04117d0",
   "metadata": {
    "deletable": false,
    "editable": false,
    "nbgrader": {
     "cell_type": "code",
     "checksum": "4437d27ffa19a0d7906b19f38ec7155f",
     "grade": true,
     "grade_id": "cell-4bf5bfb0aa5a9712",
     "locked": true,
     "points": 10,
     "schema_version": 3,
     "solution": false,
     "task": false
    }
   },
   "outputs": [],
   "source": []
  },
  {
   "cell_type": "markdown",
   "id": "b6751e57",
   "metadata": {
    "deletable": false,
    "editable": false,
    "nbgrader": {
     "cell_type": "markdown",
     "checksum": "e8f3fcf698f595b1f6fbea7344221016",
     "grade": false,
     "grade_id": "cell-fa7f4ad6d39c875f",
     "locked": true,
     "schema_version": 3,
     "solution": false,
     "task": false
    }
   },
   "source": [
    "## Section 3: Simple Web Scraping\n",
    "\n",
    "We can extract data from websites using `requests` and `re`.\n",
    "\n",
    "```python\n",
    "import requests\n",
    "import re\n",
    "\n",
    "url = \"https://example.com\"\n",
    "response = requests.get(url)\n",
    "text = response.text\n",
    "titles = re.findall(r\"<title>(.*?)</title>\", text)\n",
    "print(titles)\n",
    "```"
   ]
  },
  {
   "cell_type": "markdown",
   "id": "6cd3f594",
   "metadata": {
    "deletable": false,
    "editable": false,
    "nbgrader": {
     "cell_type": "markdown",
     "checksum": "a230074d7d5d7c8fdd37a20400ea155d",
     "grade": false,
     "grade_id": "cell-a902a016091a435d",
     "locked": true,
     "schema_version": 3,
     "solution": false,
     "task": false
    }
   },
   "source": [
    "## Task 4: Extract All URLs from HTML (10 marks)\n",
    "\n",
    "Write a function `extract_urls(html)` that extracts all hyperlinks (`href=\"...\"`) from an HTML string.\n",
    "\n",
    "**Example:**\n",
    "\n",
    "```python\n",
    "html = '<a href=\"https://iitm.ac.in\">IITM</a> <a href=\"https://maths.org\">Maths</a>'\n",
    "print(extract_urls(html))\n",
    "```\n",
    "\n",
    "**Expected Output:**\n",
    "```text\n",
    "['https://iitm.ac.in', 'https://maths.org']\n",
    "```"
   ]
  },
  {
   "cell_type": "code",
   "execution_count": null,
   "id": "5058f71d",
   "metadata": {},
   "outputs": [],
   "source": [
    "def extract_urls(html):\n",
    "    # YOUR CODE HERE\n",
    "    pattern = r'<Insert your regex pattern here.>'\n",
    "    return re.findall(pattern, html)\n",
    "\n",
    "# Sample check\n",
    "extract_urls('<a href=\"https://google.com\">Google</a>')"
   ]
  },
  {
   "cell_type": "code",
   "execution_count": null,
   "id": "485420b7",
   "metadata": {
    "deletable": false,
    "editable": false,
    "nbgrader": {
     "cell_type": "code",
     "checksum": "adc2ff174b84951deff272605df5f514",
     "grade": true,
     "grade_id": "cell-a1dfdddbe49a132c",
     "locked": true,
     "points": 10,
     "schema_version": 3,
     "solution": false,
     "task": false
    }
   },
   "outputs": [],
   "source": []
  },
  {
   "cell_type": "markdown",
   "id": "d653bb1b",
   "metadata": {
    "deletable": false,
    "editable": false,
    "nbgrader": {
     "cell_type": "markdown",
     "checksum": "18cfca839bb18d308545c91b5940f9bb",
     "grade": false,
     "grade_id": "cell-c3034ac58a794f2f",
     "locked": true,
     "schema_version": 3,
     "solution": false,
     "task": false
    }
   },
   "source": [
    "## Section 4: Storing Scraped Data in a Dictionary\n",
    "\n",
    "Let’s now combine regex and data structures."
   ]
  },
  {
   "cell_type": "markdown",
   "id": "21176805",
   "metadata": {
    "deletable": false,
    "editable": false,
    "nbgrader": {
     "cell_type": "markdown",
     "checksum": "64a6a15df2b2a8858d95121217ef91b4",
     "grade": false,
     "grade_id": "cell-72d8dfb29da51ba2",
     "locked": true,
     "schema_version": 3,
     "solution": false,
     "task": false
    }
   },
   "source": [
    "## Task 5: Create Dictionary of Names and URLs (10 marks)\n",
    "\n",
    "Given an HTML string containing multiple anchor tags, extract **link text (name)** and **URL**, and return a dictionary where the **key = link text** and **value = URL**.\n",
    "\n",
    "**Example:**\n",
    "\n",
    "```python\n",
    "html = '<a href=\"https://iitm.ac.in\">IITM</a> <a href=\"https://maths.org\">Maths</a>'\n",
    "print(name_url_dict(html))\n",
    "```\n",
    "\n",
    "**Expected Output:**\n",
    "```text\n",
    "{'IITM': 'https://iitm.ac.in', 'Maths': 'https://maths.org'}\n",
    "```"
   ]
  },
  {
   "cell_type": "code",
   "execution_count": null,
   "id": "70afbf6d",
   "metadata": {},
   "outputs": [],
   "source": [
    "def name_url_dict(html):\n",
    "    # YOUR CODE HERE\n",
    "\n",
    "# Sample check\n",
    "# name_url_dict('<a href=\"https://abc.com\">ABC</a>') # -> Uncomment this line to check whether your function runs without error and gives expected output."
   ]
  },
  {
   "cell_type": "code",
   "execution_count": null,
   "id": "e21dd245",
   "metadata": {
    "deletable": false,
    "editable": false,
    "nbgrader": {
     "cell_type": "code",
     "checksum": "a5dc281271a4923dacf4e26f5aa2e7cd",
     "grade": true,
     "grade_id": "cell-52d2da3048b60f68",
     "locked": true,
     "points": 10,
     "schema_version": 3,
     "solution": false,
     "task": false
    }
   },
   "outputs": [],
   "source": []
  }
 ],
 "metadata": {
  "kernelspec": {
   "display_name": "Python 3 (ipykernel)",
   "language": "python",
   "name": "python3"
  },
  "language_info": {
   "codemirror_mode": {
    "name": "ipython",
    "version": 3
   },
   "file_extension": ".py",
   "mimetype": "text/x-python",
   "name": "python",
   "nbconvert_exporter": "python",
   "pygments_lexer": "ipython3",
   "version": "3.13.7"
  }
 },
 "nbformat": 4,
 "nbformat_minor": 5
}
