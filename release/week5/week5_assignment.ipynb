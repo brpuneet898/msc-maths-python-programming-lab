{
 "cells": [
  {
   "cell_type": "markdown",
   "id": "4c679630",
   "metadata": {
    "deletable": false,
    "editable": false,
    "nbgrader": {
     "cell_type": "markdown",
     "checksum": "71c57a28a6b9622497a4e336299a7076",
     "grade": false,
     "grade_id": "cell-5ba306915aa45a46",
     "locked": true,
     "schema_version": 3,
     "solution": false,
     "task": false
    }
   },
   "source": [
    "# Week 5: Functions\n",
    "\n",
    "## Introduction\n",
    "\n",
    "In this assignment, you will practice writing and using **functions** in Python.  \n",
    "Functions are reusable blocks of code that help in breaking down problems into smaller parts.  \n",
    "\n",
    "By the end of this lab, you will learn to:\n",
    "- Define and call functions\n",
    "- Pass parameters to functions\n",
    "- Return values from functions\n",
    "- Write functions for mathematical sequences\n",
    "- Generate prime numbers using functions\n",
    "\n",
    "This lab is designed to be completed in **2 hours**. Please read the instructions carefully and attempt all exercises."
   ]
  },
  {
   "cell_type": "markdown",
   "id": "55eb3a12",
   "metadata": {
    "deletable": false,
    "editable": false,
    "nbgrader": {
     "cell_type": "markdown",
     "checksum": "f7665554d9763f681391c2f3b16198a7",
     "grade": false,
     "grade_id": "cell-3d14881206d471b9",
     "locked": true,
     "schema_version": 3,
     "solution": false,
     "task": false
    }
   },
   "source": [
    "## Instructions\n",
    "\n",
    "1. Each coding problem must be solved inside the provided code cells.\n",
    "2. Do not change the function names provided.\n",
    "3. Do not add or remove arguments from the given function signatures.\n",
    "4. Run all cells to check your progress.\n",
    "5. Your code will be **autograded**, so follow the instructions strictly."
   ]
  },
  {
   "cell_type": "markdown",
   "id": "e6ae39f3",
   "metadata": {
    "deletable": false,
    "editable": false,
    "nbgrader": {
     "cell_type": "markdown",
     "checksum": "e005f5b419d685204ff775f8649875ac",
     "grade": false,
     "grade_id": "cell-3f173da41a9f0327",
     "locked": true,
     "schema_version": 3,
     "solution": false,
     "task": false
    }
   },
   "source": [
    "## Problem 1: Basic Function Definition (10 marks)\n",
    "\n",
    "Write a function called `greet` that takes a string argument `name` and returns a greeting message in the form:\n",
    "\n",
    "```\n",
    "Hello, <name>!\n",
    "```\n",
    "\n",
    "### Example\n",
    "```python\n",
    "greet(\"Alice\") → \"Hello, Alice!\"\n",
    "```"
   ]
  },
  {
   "cell_type": "code",
   "execution_count": null,
   "id": "3a2d502b",
   "metadata": {},
   "outputs": [],
   "source": [
    "def greet():\n",
    "    pass"
   ]
  },
  {
   "cell_type": "code",
   "execution_count": null,
   "id": "c31096b4",
   "metadata": {
    "deletable": false,
    "editable": false,
    "nbgrader": {
     "cell_type": "code",
     "checksum": "cdfb51801a0b28479537f8264a71c129",
     "grade": true,
     "grade_id": "cell-7bb232a3e9809c4c",
     "locked": true,
     "points": 10,
     "schema_version": 3,
     "solution": false,
     "task": false
    }
   },
   "outputs": [],
   "source": []
  },
  {
   "cell_type": "markdown",
   "id": "d723b67d",
   "metadata": {
    "deletable": false,
    "editable": false,
    "nbgrader": {
     "cell_type": "markdown",
     "checksum": "31a9df9fd6ac630700fd06f46139e158",
     "grade": false,
     "grade_id": "cell-e792cba94da6ad76",
     "locked": true,
     "schema_version": 3,
     "solution": false,
     "task": false
    }
   },
   "source": [
    "## Problem 2: Function with Parameters (10 marks)\n",
    "\n",
    "Write a function called `power` that takes two integers `a` and `b`, and returns `a` raised to the power `b`.\n",
    "\n",
    "### Example\n",
    "```python\n",
    "power(2, 3) → 8\n",
    "power(5, 0) → 1\n",
    "```"
   ]
  },
  {
   "cell_type": "code",
   "execution_count": null,
   "id": "969d5347",
   "metadata": {},
   "outputs": [],
   "source": [
    "def power():\n",
    "    pass"
   ]
  },
  {
   "cell_type": "code",
   "execution_count": null,
   "id": "96e5f590",
   "metadata": {
    "deletable": false,
    "editable": false,
    "nbgrader": {
     "cell_type": "code",
     "checksum": "e5e68a1675320e14bd2146abac7da89d",
     "grade": true,
     "grade_id": "cell-1ea57b390bf25845",
     "locked": true,
     "points": 10,
     "schema_version": 3,
     "solution": false,
     "task": false
    }
   },
   "outputs": [],
   "source": []
  },
  {
   "cell_type": "markdown",
   "id": "7e1e7f5e",
   "metadata": {
    "deletable": false,
    "editable": false,
    "nbgrader": {
     "cell_type": "markdown",
     "checksum": "d799d536543eda8e5620e378cf19a306",
     "grade": false,
     "grade_id": "cell-f56834a27a80dd65",
     "locked": true,
     "schema_version": 3,
     "solution": false,
     "task": false
    }
   },
   "source": [
    "## Problem 3: Factorial Function (10 marks)\n",
    "\n",
    "Write a function `factorial` that takes a non-negative integer `n` and returns the factorial of `n`.\n",
    "\n",
    "**Recall:**  \n",
    "n! = n × (n-1) × (n-2) × ... × 1\n",
    "and `0! = 1`.\n",
    "\n",
    "### Example\n",
    "```python\n",
    "factorial(5) → 120\n",
    "```"
   ]
  },
  {
   "cell_type": "code",
   "execution_count": null,
   "id": "917d9d76",
   "metadata": {},
   "outputs": [],
   "source": [
    "def factorial():\n",
    "    pass"
   ]
  },
  {
   "cell_type": "code",
   "execution_count": null,
   "id": "680e7d5d",
   "metadata": {
    "deletable": false,
    "editable": false,
    "nbgrader": {
     "cell_type": "code",
     "checksum": "909c5c6cbea763890b50b410df43d180",
     "grade": true,
     "grade_id": "cell-ff7e643424cc6635",
     "locked": true,
     "points": 10,
     "schema_version": 3,
     "solution": false,
     "task": false
    }
   },
   "outputs": [],
   "source": []
  },
  {
   "cell_type": "markdown",
   "id": "09c2976f",
   "metadata": {
    "deletable": false,
    "editable": false,
    "nbgrader": {
     "cell_type": "markdown",
     "checksum": "08d3d98ea89206c33a4375f618446414",
     "grade": false,
     "grade_id": "cell-714b3f663610bdc7",
     "locked": true,
     "schema_version": 3,
     "solution": false,
     "task": false
    }
   },
   "source": [
    "## Problem 4: Fibonacci Sequence (10 marks)\n",
    "\n",
    "Write a function `fibonacci` that takes an integer `n` and returns the `n`-th Fibonacci number.\n",
    "\n",
    "**Recall:**  \n",
    "The Fibonacci sequence is defined as:\n",
    "F(0) = 0, F(1) = 1\n",
    "F(n) = F(n-1) + F(n-2) for n ≥ 2\n",
    "\n",
    "### Example\n",
    "```python\n",
    "fibonacci(0) → 0\n",
    "fibonacci(1) → 1\n",
    "fibonacci(6) → 8\n",
    "```"
   ]
  },
  {
   "cell_type": "code",
   "execution_count": null,
   "id": "a4923ff4",
   "metadata": {},
   "outputs": [],
   "source": [
    "def fibonacci():\n",
    "    pass"
   ]
  },
  {
   "cell_type": "code",
   "execution_count": null,
   "id": "529d6ccd",
   "metadata": {
    "deletable": false,
    "editable": false,
    "nbgrader": {
     "cell_type": "code",
     "checksum": "3b8c5325dc4e58591d2bb57c532d5f7e",
     "grade": true,
     "grade_id": "cell-0cc30c2a0d4193a5",
     "locked": true,
     "points": 10,
     "schema_version": 3,
     "solution": false,
     "task": false
    }
   },
   "outputs": [],
   "source": []
  },
  {
   "cell_type": "markdown",
   "id": "b696380d",
   "metadata": {
    "deletable": false,
    "editable": false,
    "nbgrader": {
     "cell_type": "markdown",
     "checksum": "107da146f98c3b7069bfe7a9c47c449e",
     "grade": false,
     "grade_id": "cell-6aceddae4ecb54fa",
     "locked": true,
     "schema_version": 3,
     "solution": false,
     "task": false
    }
   },
   "source": [
    "## Problem 5: Prime Number Check (10 marks)\n",
    "\n",
    "Write a function `is_prime` that takes an integer `n` and returns `True` if `n` is a prime number, and `False` otherwise.\n",
    "\n",
    "**Recall:**  \n",
    "A prime number is a natural number greater than 1 that is not divisible by any number other than 1 and itself.\n",
    "\n",
    "### Example\n",
    "```python\n",
    "is_prime(7) → True\n",
    "is_prime(10) → False\n",
    "```"
   ]
  },
  {
   "cell_type": "code",
   "execution_count": null,
   "id": "edac7f8b",
   "metadata": {},
   "outputs": [],
   "source": [
    "def is_prime():\n",
    "    pass"
   ]
  },
  {
   "cell_type": "code",
   "execution_count": null,
   "id": "75011948",
   "metadata": {
    "deletable": false,
    "editable": false,
    "nbgrader": {
     "cell_type": "code",
     "checksum": "789a7f84c0477e81e4e11c459e5f6aab",
     "grade": true,
     "grade_id": "cell-735e035bfb0176cb",
     "locked": true,
     "points": 10,
     "schema_version": 3,
     "solution": false,
     "task": false
    }
   },
   "outputs": [],
   "source": []
  },
  {
   "cell_type": "markdown",
   "id": "22233dcf",
   "metadata": {
    "deletable": false,
    "editable": false,
    "nbgrader": {
     "cell_type": "markdown",
     "checksum": "275cf2af3ca045959d09e068b8b002ce",
     "grade": false,
     "grade_id": "cell-ff067a76634c8cf2",
     "locked": true,
     "schema_version": 3,
     "solution": false,
     "task": false
    }
   },
   "source": [
    "## Problem 6: Generate Prime Numbers (10 marks)\n",
    "\n",
    "Write a function `generate_primes` that takes an integer `n` and returns a list of the first `n` prime numbers.\n",
    "\n",
    "### Example\n",
    "```python\n",
    "generate_primes(5) → [2, 3, 5, 7, 11]\n",
    "```"
   ]
  },
  {
   "cell_type": "code",
   "execution_count": null,
   "id": "a79790ec",
   "metadata": {},
   "outputs": [],
   "source": [
    "def generate_primes():\n",
    "    pass"
   ]
  },
  {
   "cell_type": "code",
   "execution_count": null,
   "id": "dcf305cb",
   "metadata": {
    "deletable": false,
    "editable": false,
    "nbgrader": {
     "cell_type": "code",
     "checksum": "16f4a5a96a464618fbdfd9dadf1a3244",
     "grade": true,
     "grade_id": "cell-2e27ec292006d68e",
     "locked": true,
     "points": 10,
     "schema_version": 3,
     "solution": false,
     "task": false
    }
   },
   "outputs": [],
   "source": []
  }
 ],
 "metadata": {
  "kernelspec": {
   "display_name": "Python 3 (ipykernel)",
   "language": "python",
   "name": "python3"
  },
  "language_info": {
   "codemirror_mode": {
    "name": "ipython",
    "version": 3
   },
   "file_extension": ".py",
   "mimetype": "text/x-python",
   "name": "python",
   "nbconvert_exporter": "python",
   "pygments_lexer": "ipython3",
   "version": "3.13.7"
  }
 },
 "nbformat": 4,
 "nbformat_minor": 5
}
