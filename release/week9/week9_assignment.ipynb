{
 "cells": [
  {
   "cell_type": "markdown",
   "id": "2df4c32e",
   "metadata": {
    "deletable": false,
    "editable": false,
    "nbgrader": {
     "cell_type": "markdown",
     "checksum": "9aaa99b6f3efc19729c55048b605d25e",
     "grade": false,
     "grade_id": "cell-dc1474962c5f5956",
     "locked": true,
     "schema_version": 3,
     "solution": false,
     "task": false
    }
   },
   "source": [
    "# Week 9: Data Visualisation using Matplotlib\n",
    "\n",
    "## Introduction\n",
    "\n",
    "Data visualisation is a key aspect of mathematical computing and scientific programming.  \n",
    "In this assignment, you will:\n",
    "- Plot mathematical functions using `matplotlib`\n",
    "- Create scatter plots\n",
    "- Add labels, titles, legends, and annotations\n",
    "- Visualise mathematical sequences\n",
    "\n",
    "## Instructions\n",
    "\n",
    "1. Do not change the function names.\n",
    "2. Do not add or remove parameters from function definitions.\n",
    "3. Plots should be generated using `matplotlib.pyplot`.\n",
    "4. Each function must return the figure object for testing purposes.\n",
    "5. Run all cells to verify outputs."
   ]
  },
  {
   "cell_type": "markdown",
   "id": "2e91dbf4",
   "metadata": {
    "deletable": false,
    "editable": false,
    "nbgrader": {
     "cell_type": "markdown",
     "checksum": "15f8620a101bebc320d9f9ce92b594b3",
     "grade": false,
     "grade_id": "cell-6f3d31c71c48d85f",
     "locked": true,
     "schema_version": 3,
     "solution": false,
     "task": false
    }
   },
   "source": [
    "## 1: Plot Sine Function (5 marks)\n",
    "\n",
    "Write a function `plot_sine` that:\n",
    "- Takes no arguments\n",
    "- Plots the function `y = sin(x)` for `x` from `0` to `2π`\n",
    "- Labels the x-axis as `\"x\"`, y-axis as `\"sin(x)\"`, and title as `\"Sine Function\"`\n",
    "- Returns the figure object"
   ]
  },
  {
   "cell_type": "code",
   "execution_count": null,
   "id": "89221a5e",
   "metadata": {},
   "outputs": [],
   "source": [
    "import numpy as np\n",
    "import matplotlib.pyplot as plt\n",
    "\n",
    "def plot_sine():\n",
    "    "
   ]
  },
  {
   "cell_type": "code",
   "execution_count": null,
   "id": "87bc6997",
   "metadata": {
    "deletable": false,
    "editable": false,
    "nbgrader": {
     "cell_type": "code",
     "checksum": "b77d077791380591fdb08bf3cbecf39a",
     "grade": true,
     "grade_id": "cell-b1772873e629ed11",
     "locked": true,
     "points": 5,
     "schema_version": 3,
     "solution": false,
     "task": false
    }
   },
   "outputs": [],
   "source": []
  },
  {
   "cell_type": "markdown",
   "id": "29e32f5a",
   "metadata": {
    "deletable": false,
    "editable": false,
    "nbgrader": {
     "cell_type": "markdown",
     "checksum": "6ab3b60695b5550200db37f7552757c1",
     "grade": false,
     "grade_id": "cell-69eba9aa194af58b",
     "locked": true,
     "schema_version": 3,
     "solution": false,
     "task": false
    }
   },
   "source": [
    "## 2: Exponential Plot (5 marks)\n",
    "\n",
    "Write a function `plot_exponential` that:\n",
    "- Plots the function `y = e^x` for `x` in the range `0` to `5`\n",
    "- Titles the plot `\"Exponential Function\"`\n",
    "- Adds labels `\"x\"` and `\"exp(x)\"` on respective axes\n",
    "- Returns the figure object"
   ]
  },
  {
   "cell_type": "code",
   "execution_count": null,
   "id": "3b967604",
   "metadata": {},
   "outputs": [],
   "source": [
    "def plot_exponential():"
   ]
  },
  {
   "cell_type": "code",
   "execution_count": null,
   "id": "e454b0f0",
   "metadata": {
    "deletable": false,
    "editable": false,
    "nbgrader": {
     "cell_type": "code",
     "checksum": "fd196f648ad8f44284016b12f7cacedf",
     "grade": true,
     "grade_id": "cell-6c4733386e6b6416",
     "locked": true,
     "points": 5,
     "schema_version": 3,
     "solution": false,
     "task": false
    }
   },
   "outputs": [],
   "source": []
  },
  {
   "cell_type": "markdown",
   "id": "fbd5c332",
   "metadata": {
    "deletable": false,
    "editable": false,
    "nbgrader": {
     "cell_type": "markdown",
     "checksum": "5c59654c3c573a8483137c6fa102238a",
     "grade": false,
     "grade_id": "cell-f0691d62c3b82afd",
     "locked": true,
     "schema_version": 3,
     "solution": false,
     "task": false
    }
   },
   "source": [
    "## 3: Scatter Plot of Random Points (5 marks)\n",
    "\n",
    "Write a function `scatter_points` that:\n",
    "- Takes two lists `x_vals` and `y_vals`\n",
    "- Creates a scatter plot\n",
    "- Adds the title `\"Scatter Plot\"`\n",
    "- Labels the axes appropriately\n",
    "- Returns the figure object\n"
   ]
  },
  {
   "cell_type": "code",
   "execution_count": null,
   "id": "c89a737b",
   "metadata": {},
   "outputs": [],
   "source": [
    "def scatter_points(x_vals, y_vals):"
   ]
  },
  {
   "cell_type": "code",
   "execution_count": null,
   "id": "4d58dca7",
   "metadata": {
    "deletable": false,
    "editable": false,
    "nbgrader": {
     "cell_type": "code",
     "checksum": "5d8c73d3902369117e6b941650e416a5",
     "grade": true,
     "grade_id": "cell-0dda63630e45fa8f",
     "locked": true,
     "points": 5,
     "schema_version": 3,
     "solution": false,
     "task": false
    }
   },
   "outputs": [],
   "source": []
  },
  {
   "cell_type": "markdown",
   "id": "5dd2d518",
   "metadata": {
    "deletable": false,
    "editable": false,
    "nbgrader": {
     "cell_type": "markdown",
     "checksum": "b33fae606b51c7127546730dc15d4d08",
     "grade": false,
     "grade_id": "cell-0947399e24c8a97c",
     "locked": true,
     "schema_version": 3,
     "solution": false,
     "task": false
    }
   },
   "source": [
    "## 4: Annotate a Point on a Graph (5 marks)\n",
    "\n",
    "Write a function `annotate_graph` that:\n",
    "- Plots `y = x^2` for `x` in range -5 to 5\n",
    "- Annotates the point (2, 4) with the label `\"Point (2,4)\"`\n",
    "- Returns the figure object"
   ]
  },
  {
   "cell_type": "code",
   "execution_count": null,
   "id": "35abb99c",
   "metadata": {},
   "outputs": [],
   "source": [
    "def annotate_graph():"
   ]
  },
  {
   "cell_type": "code",
   "execution_count": null,
   "id": "ee897e2c",
   "metadata": {
    "deletable": false,
    "editable": false,
    "nbgrader": {
     "cell_type": "code",
     "checksum": "e3120fa1abda6dcc412b21a50ea4aa80",
     "grade": true,
     "grade_id": "cell-bce0ee724f5395dd",
     "locked": true,
     "points": 5,
     "schema_version": 3,
     "solution": false,
     "task": false
    }
   },
   "outputs": [],
   "source": []
  },
  {
   "cell_type": "markdown",
   "id": "c3b2fa6d",
   "metadata": {
    "deletable": false,
    "editable": false,
    "nbgrader": {
     "cell_type": "markdown",
     "checksum": "a2bbbf998dbfbd26894115e121f9bfe1",
     "grade": false,
     "grade_id": "cell-43a14bf06845e092",
     "locked": true,
     "schema_version": 3,
     "solution": false,
     "task": false
    }
   },
   "source": [
    "## 5: Visualise a Mathematical Sequence (5 marks)\n",
    "\n",
    "Write a function `plot_sequence` that:\n",
    "- Takes an integer `n`\n",
    "- Generates the first `n` terms of the sequence: `a_n = n^2 + 1`\n",
    "- Plots it as a line graph with markers\n",
    "- Labels the sequence as `\"a_n = n^2 + 1\"`\n",
    "- Returns the figure object\n",
    "\n",
    "### Example\n",
    "For n = 5 → The sequence is [2, 5, 10, 17, 26]"
   ]
  },
  {
   "cell_type": "code",
   "execution_count": null,
   "id": "e4952c39",
   "metadata": {},
   "outputs": [],
   "source": [
    "def plot_sequence(n: int):"
   ]
  },
  {
   "cell_type": "code",
   "execution_count": null,
   "id": "58353c5b",
   "metadata": {
    "deletable": false,
    "editable": false,
    "nbgrader": {
     "cell_type": "code",
     "checksum": "39a83eaca3090b414cf3cbe94af491c8",
     "grade": true,
     "grade_id": "cell-60e30ae51473dfae",
     "locked": true,
     "points": 5,
     "schema_version": 3,
     "solution": false,
     "task": false
    }
   },
   "outputs": [],
   "source": []
  }
 ],
 "metadata": {
  "kernelspec": {
   "display_name": "Python 3 (ipykernel)",
   "language": "python",
   "name": "python3"
  },
  "language_info": {
   "codemirror_mode": {
    "name": "ipython",
    "version": 3
   },
   "file_extension": ".py",
   "mimetype": "text/x-python",
   "name": "python",
   "nbconvert_exporter": "python",
   "pygments_lexer": "ipython3",
   "version": "3.13.7"
  }
 },
 "nbformat": 4,
 "nbformat_minor": 5
}
